{
  "cells": [
    {
      "cell_type": "markdown",
      "metadata": {
        "id": "lSkIUEy3SWOy"
      },
      "source": [
        "# Sistema de recomendação em tempo real\n",
        "#### Modelo de recomendação com uso de aprendizado não supervisionado Spark ML, PySpark, Spark Streaming e Kafka com dados do Spotify.\n",
        "\n",
        "*by [Bruno Azambuja](https://www.linkedin.com/in/brunoazambuja/)*\n"
      ]
    },
    {
      "cell_type": "markdown",
      "metadata": {
        "id": "6-EorlXL3jM7"
      },
      "source": [
        "## Business problem"
      ]
    },
    {
      "cell_type": "markdown",
      "source": [
        "Neste projeto implementarei um sistema de recomendação em tempo real. Vamos recomendar músicas do Spotify de acordo com as preferências do usuários, mas o projeto pode ser modificado para recomendar outros produtos ou serviços. Este  projeto é composto de diversas partes uma vez que toda a infraestrutura necessária será construída passo a passo.\n",
        "\n",
        "Cada usuário tem suas preferências musicais e neste projeto recomendaremos novas músicas de acordo com as preferências do usuário. De fato, é exatamente isso que a Spotify faz com  os  usuários  da  sua  app,  para  que  os  usuários  assinem  o  serviço  pago  da empresa  ou mantenham o plano existente.\n",
        "\n",
        "Usaremos 2 streams de dados:\n",
        "\n",
        "- Stream 1: Usaremos um  dataset com milhares de  músicas. A partir desse dataset que recomendaremos as músicas para o usuário. Vamos utilizar o dataset que foi extraído no link: https://research.atspotify.com/datasets;\n",
        "\n",
        "- Stream 2: Vamos extrair as preferências musicais do usuário direto do Spotify com a  API  gratuita  fornecida  pela  empresa. Teremos que criar uma conta  gratuita no Spotify, pesquisar algumas das músicas ou artistas preferidos e dar um like em algumas músicas para gerar uma massa de dados. Vamos extrair as preferências e construir o sistema de recomendação.\n"
      ],
      "metadata": {
        "id": "z-LvgPub01lk"
      }
    },
    {
      "cell_type": "code",
      "execution_count": null,
      "metadata": {
        "id": "g8_QflbcxCAb"
      },
      "outputs": [],
      "source": [
        "# Instalando pacotes\n",
        "!pip install -q -U watermark\n",
        "!pip install findspark\n",
        "!pip install -q spotipy\n",
        "!pip install -q kafka-python"
      ]
    },
    {
      "cell_type": "code",
      "execution_count": null,
      "metadata": {
        "id": "bRhTDn9mxCAe"
      },
      "outputs": [],
      "source": [
        "# Importando pacotes\n",
        "import os\n",
        "import time\n",
        "import random\n",
        "import pyspark\n",
        "import ujson\n",
        "import spotipy\n",
        "import spotipy.util\n",
        "import numpy as np\n",
        "import pandas as pd\n",
        "import matplotlib.pyplot as plt\n",
        "import seaborn as sns\n",
        "import warnings\n",
        "import kafka\n",
        "from platform import python_version\n",
        "from pyspark.sql import SparkSession\n",
        "from pyspark.sql.functions import *\n",
        "from pyspark.ml.clustering import KMeans\n",
        "from pyspark.ml.feature import Normalizer\n",
        "from pyspark.ml.feature import VectorAssembler\n",
        "from pyspark.ml.feature import StandardScaler\n",
        "from pyspark.ml.evaluation import ClusteringEvaluator\n",
        "from tqdm import tqdm\n",
        "from json import dumps\n",
        "from kafka import KafkaProducer\n",
        "warnings.filterwarnings(\"ignore\")"
      ]
    },
    {
      "cell_type": "code",
      "execution_count": null,
      "metadata": {
        "id": "0_9n09LlxCAZ",
        "outputId": "eea6afa3-7581-475a-895c-6491fa4b9f1d"
      },
      "outputs": [
        {
          "name": "stdout",
          "output_type": "stream",
          "text": [
            "Versão da Linguagem Python Usada Neste Jupyter Notebook: 3.9.13\n"
          ]
        }
      ],
      "source": [
        "# Versão da linguagem Python\n",
        "print('Versão da Linguagem Python Usada Neste Jupyter Notebook:', python_version())"
      ]
    },
    {
      "cell_type": "code",
      "execution_count": null,
      "metadata": {
        "id": "YPFZjDVPy01Q",
        "outputId": "6529d0b5-5800-4f04-e78a-3fdc87ea964f"
      },
      "outputs": [
        {
          "name": "stdout",
          "output_type": "stream",
          "text": [
            "ujson     : 5.4.0\n",
            "spotipy   : 2.23.0\n",
            "seaborn   : 0.11.2\n",
            "matplotlib: 3.5.2\n",
            "numpy     : 1.21.5\n",
            "pandas    : 1.4.4\n",
            "sys       : 3.9.13 (main, Aug 25 2022, 23:26:10) \n",
            "[GCC 11.2.0]\n",
            "pyspark   : 3.3.2\n",
            "\n"
          ]
        }
      ],
      "source": [
        "# Versões dos pacotes usados neste jupyter notebook\n",
        "%reload_ext watermark\n",
        "%watermark --iversions"
      ]
    },
    {
      "cell_type": "markdown",
      "metadata": {
        "id": "flG8aDeRtyjo"
      },
      "source": [
        "## Criando um Kafka Producer em linguagem Python"
      ]
    },
    {
      "cell_type": "code",
      "execution_count": null,
      "metadata": {
        "id": "5Ggo4u5zsgIZ"
      },
      "outputs": [],
      "source": [
        "# Endereço do servidor Kafka\n",
        "SERVER = 'localhost:9092'"
      ]
    },
    {
      "cell_type": "code",
      "execution_count": null,
      "metadata": {
        "id": "q9gr8Q2vsgIa"
      },
      "outputs": [],
      "source": [
        "# Nome do tópico\n",
        "TOPIC = \"projeto\""
      ]
    },
    {
      "cell_type": "code",
      "execution_count": null,
      "metadata": {
        "id": "Pn-O_hNUsgIa"
      },
      "outputs": [],
      "source": [
        "# Carregamos o conjunto de dados de músicas\n",
        "df_projeto = pd.read_csv(\"dados/dataset.csv\")"
      ]
    },
    {
      "cell_type": "code",
      "execution_count": null,
      "metadata": {
        "id": "4EmD5DzVsgIa"
      },
      "outputs": [],
      "source": [
        "# Ajustamos o formato de 3 colunas importantes: order_id, Artist Name(s) e Artist IDs\n",
        "df_projeto['order_id'] = np.arange(len(df_projeto))\n",
        "df_projeto['Artist Name(s)'] = df_projeto['Artist Name(s)'].str.replace('[^a-zA-Z]', '')\n",
        "df_projeto['Artist IDs'] = df_projeto['Artist IDs'].str.replace('[^a-zA-Z]', '')"
      ]
    },
    {
      "cell_type": "code",
      "execution_count": null,
      "metadata": {
        "id": "QrsloTgusgIa",
        "outputId": "dafe649f-d54e-484b-b430-7b74e7129dbc"
      },
      "outputs": [
        {
          "data": {
            "text/plain": [
              "(4399, 24)"
            ]
          },
          "execution_count": 11,
          "metadata": {},
          "output_type": "execute_result"
        }
      ],
      "source": [
        "# Formatado do dataframe\n",
        "df_projeto.shape"
      ]
    },
    {
      "cell_type": "code",
      "execution_count": null,
      "metadata": {
        "id": "Wso3DkdfsgIa",
        "outputId": "f6f4797e-a8f8-4433-b25d-b1da970dad0a"
      },
      "outputs": [
        {
          "data": {
            "text/html": [
              "<div>\n",
              "<style scoped>\n",
              "    .dataframe tbody tr th:only-of-type {\n",
              "        vertical-align: middle;\n",
              "    }\n",
              "\n",
              "    .dataframe tbody tr th {\n",
              "        vertical-align: top;\n",
              "    }\n",
              "\n",
              "    .dataframe thead th {\n",
              "        text-align: right;\n",
              "    }\n",
              "</style>\n",
              "<table border=\"1\" class=\"dataframe\">\n",
              "  <thead>\n",
              "    <tr style=\"text-align: right;\">\n",
              "      <th></th>\n",
              "      <th>Spotify ID</th>\n",
              "      <th>Artist IDs</th>\n",
              "      <th>Track Name</th>\n",
              "      <th>Album Name</th>\n",
              "      <th>Artist Name(s)</th>\n",
              "      <th>Release Date</th>\n",
              "      <th>Duration (ms)</th>\n",
              "      <th>Popularity</th>\n",
              "      <th>Added By</th>\n",
              "      <th>Added At</th>\n",
              "      <th>...</th>\n",
              "      <th>Loudness</th>\n",
              "      <th>Mode</th>\n",
              "      <th>Speechiness</th>\n",
              "      <th>Acousticness</th>\n",
              "      <th>Instrumentalness</th>\n",
              "      <th>Liveness</th>\n",
              "      <th>Valence</th>\n",
              "      <th>Tempo</th>\n",
              "      <th>Time Signature</th>\n",
              "      <th>order_id</th>\n",
              "    </tr>\n",
              "  </thead>\n",
              "  <tbody>\n",
              "    <tr>\n",
              "      <th>0</th>\n",
              "      <td>22a0Ji6EQKkY0tBohlN4Od</td>\n",
              "      <td>qLyYYhSlsjwymwVKwW</td>\n",
              "      <td>There You Are</td>\n",
              "      <td>There You Are</td>\n",
              "      <td>KirstenLudwig</td>\n",
              "      <td>2018-08-06</td>\n",
              "      <td>231240</td>\n",
              "      <td>2</td>\n",
              "      <td>spotify:user:predict0</td>\n",
              "      <td>2018-08-28T19:51:58Z</td>\n",
              "      <td>...</td>\n",
              "      <td>-5.596</td>\n",
              "      <td>0</td>\n",
              "      <td>0.0304</td>\n",
              "      <td>0.334000</td>\n",
              "      <td>0.282000</td>\n",
              "      <td>0.1050</td>\n",
              "      <td>0.316</td>\n",
              "      <td>129.856</td>\n",
              "      <td>4</td>\n",
              "      <td>0</td>\n",
              "    </tr>\n",
              "    <tr>\n",
              "      <th>1</th>\n",
              "      <td>4J39ZEbwqHwtWLImUKmrn9</td>\n",
              "      <td>CRfAxYjJsDBHwvWFnjaRRRPXwFwQmoTNqNHBGU</td>\n",
              "      <td>88 Days</td>\n",
              "      <td>Heat</td>\n",
              "      <td>SaraKingIanOlney</td>\n",
              "      <td>2018-08-04</td>\n",
              "      <td>227961</td>\n",
              "      <td>8</td>\n",
              "      <td>spotify:user:predict0</td>\n",
              "      <td>2018-08-28T19:51:58Z</td>\n",
              "      <td>...</td>\n",
              "      <td>-10.749</td>\n",
              "      <td>1</td>\n",
              "      <td>0.0333</td>\n",
              "      <td>0.134000</td>\n",
              "      <td>0.582000</td>\n",
              "      <td>0.1340</td>\n",
              "      <td>0.233</td>\n",
              "      <td>155.062</td>\n",
              "      <td>4</td>\n",
              "      <td>1</td>\n",
              "    </tr>\n",
              "    <tr>\n",
              "      <th>2</th>\n",
              "      <td>0a12d4HUjOmQSqHqLopWYx</td>\n",
              "      <td>hytHTGTflktWAhKcxQ</td>\n",
              "      <td>Castaway</td>\n",
              "      <td>Castaway</td>\n",
              "      <td>ARZLEE</td>\n",
              "      <td>2018-08-10</td>\n",
              "      <td>230000</td>\n",
              "      <td>0</td>\n",
              "      <td>spotify:user:predict0</td>\n",
              "      <td>2018-08-28T19:51:58Z</td>\n",
              "      <td>...</td>\n",
              "      <td>-11.290</td>\n",
              "      <td>1</td>\n",
              "      <td>0.0314</td>\n",
              "      <td>0.110000</td>\n",
              "      <td>0.000032</td>\n",
              "      <td>0.1190</td>\n",
              "      <td>0.290</td>\n",
              "      <td>83.988</td>\n",
              "      <td>4</td>\n",
              "      <td>2</td>\n",
              "    </tr>\n",
              "    <tr>\n",
              "      <th>3</th>\n",
              "      <td>4u1DykFW1HjYAGNoDCiXfC</td>\n",
              "      <td>WjyoJHRHlTbUTZTwqpAgeqmtJlARXjon</td>\n",
              "      <td>Arouse</td>\n",
              "      <td>Arouse</td>\n",
              "      <td>Shagabondgoodboynoah</td>\n",
              "      <td>2018-08-03</td>\n",
              "      <td>213913</td>\n",
              "      <td>30</td>\n",
              "      <td>spotify:user:predict0</td>\n",
              "      <td>2018-08-28T19:51:58Z</td>\n",
              "      <td>...</td>\n",
              "      <td>-6.066</td>\n",
              "      <td>1</td>\n",
              "      <td>0.4330</td>\n",
              "      <td>0.072800</td>\n",
              "      <td>0.000000</td>\n",
              "      <td>0.3680</td>\n",
              "      <td>0.533</td>\n",
              "      <td>91.961</td>\n",
              "      <td>4</td>\n",
              "      <td>3</td>\n",
              "    </tr>\n",
              "    <tr>\n",
              "      <th>4</th>\n",
              "      <td>0u7JZm9ORerlZnnxxSdMwl</td>\n",
              "      <td>AdKmjgFzpcTvmVfGwR</td>\n",
              "      <td>Lonely</td>\n",
              "      <td>Lonely</td>\n",
              "      <td>Hayleau</td>\n",
              "      <td>2018-08-10</td>\n",
              "      <td>258738</td>\n",
              "      <td>21</td>\n",
              "      <td>spotify:user:predict0</td>\n",
              "      <td>2018-08-28T19:51:58Z</td>\n",
              "      <td>...</td>\n",
              "      <td>-3.921</td>\n",
              "      <td>0</td>\n",
              "      <td>0.0406</td>\n",
              "      <td>0.016900</td>\n",
              "      <td>0.000630</td>\n",
              "      <td>0.0542</td>\n",
              "      <td>0.577</td>\n",
              "      <td>98.954</td>\n",
              "      <td>4</td>\n",
              "      <td>4</td>\n",
              "    </tr>\n",
              "    <tr>\n",
              "      <th>5</th>\n",
              "      <td>0wuy2BYIVLbflFDqnR9Jay</td>\n",
              "      <td>kCwrYUFSJCubbbnZrE</td>\n",
              "      <td>Orsay</td>\n",
              "      <td>Strange Affairs</td>\n",
              "      <td>TheSvens</td>\n",
              "      <td>2018-08-03</td>\n",
              "      <td>413658</td>\n",
              "      <td>6</td>\n",
              "      <td>spotify:user:predict0</td>\n",
              "      <td>2018-08-28T19:51:58Z</td>\n",
              "      <td>...</td>\n",
              "      <td>-11.858</td>\n",
              "      <td>1</td>\n",
              "      <td>0.0316</td>\n",
              "      <td>0.048600</td>\n",
              "      <td>0.886000</td>\n",
              "      <td>0.1280</td>\n",
              "      <td>0.283</td>\n",
              "      <td>122.992</td>\n",
              "      <td>4</td>\n",
              "      <td>5</td>\n",
              "    </tr>\n",
              "    <tr>\n",
              "      <th>6</th>\n",
              "      <td>6LkIZZRrPQIbHMyBR5mTc2</td>\n",
              "      <td>TOsWuafqeWtrvYXqbnYAV</td>\n",
              "      <td>Nurture</td>\n",
              "      <td>Comrade</td>\n",
              "      <td>IslandFox</td>\n",
              "      <td>2018-08-09</td>\n",
              "      <td>191641</td>\n",
              "      <td>0</td>\n",
              "      <td>spotify:user:predict0</td>\n",
              "      <td>2018-08-28T19:51:58Z</td>\n",
              "      <td>...</td>\n",
              "      <td>-11.415</td>\n",
              "      <td>0</td>\n",
              "      <td>0.0504</td>\n",
              "      <td>0.015900</td>\n",
              "      <td>0.639000</td>\n",
              "      <td>0.1810</td>\n",
              "      <td>0.266</td>\n",
              "      <td>133.925</td>\n",
              "      <td>4</td>\n",
              "      <td>6</td>\n",
              "    </tr>\n",
              "    <tr>\n",
              "      <th>7</th>\n",
              "      <td>5U27fxNSd27XtX876xUsfV</td>\n",
              "      <td>HsKUExgNcRJojPmBcNqzgwpvzedAIjuDBM</td>\n",
              "      <td>Dinosaur Hair - Remix</td>\n",
              "      <td>Dinosaur Hair</td>\n",
              "      <td>AndyFerroCharlieConway</td>\n",
              "      <td>2018-08-10</td>\n",
              "      <td>257152</td>\n",
              "      <td>1</td>\n",
              "      <td>spotify:user:predict0</td>\n",
              "      <td>2018-08-28T19:51:58Z</td>\n",
              "      <td>...</td>\n",
              "      <td>-10.086</td>\n",
              "      <td>1</td>\n",
              "      <td>0.0383</td>\n",
              "      <td>0.456000</td>\n",
              "      <td>0.920000</td>\n",
              "      <td>0.1350</td>\n",
              "      <td>0.663</td>\n",
              "      <td>125.908</td>\n",
              "      <td>4</td>\n",
              "      <td>7</td>\n",
              "    </tr>\n",
              "    <tr>\n",
              "      <th>8</th>\n",
              "      <td>5ogJOpmyDsvrAdttU6JLnN</td>\n",
              "      <td>gslbnQQLLcNzfjnxQY</td>\n",
              "      <td>Breathing Underwater</td>\n",
              "      <td>Long Way Down</td>\n",
              "      <td>MorningWars</td>\n",
              "      <td>2018-08-03</td>\n",
              "      <td>174999</td>\n",
              "      <td>0</td>\n",
              "      <td>spotify:user:predict0</td>\n",
              "      <td>2018-08-28T19:51:58Z</td>\n",
              "      <td>...</td>\n",
              "      <td>-11.258</td>\n",
              "      <td>0</td>\n",
              "      <td>0.0461</td>\n",
              "      <td>0.000005</td>\n",
              "      <td>0.020400</td>\n",
              "      <td>0.1150</td>\n",
              "      <td>0.477</td>\n",
              "      <td>150.042</td>\n",
              "      <td>4</td>\n",
              "      <td>8</td>\n",
              "    </tr>\n",
              "    <tr>\n",
              "      <th>9</th>\n",
              "      <td>65rLHt6A58MFRxlNWVDU1Z</td>\n",
              "      <td>WlYiRrlrChWktQDo</td>\n",
              "      <td>Summer</td>\n",
              "      <td>Summer</td>\n",
              "      <td>NoSo</td>\n",
              "      <td>2018-08-01</td>\n",
              "      <td>232746</td>\n",
              "      <td>22</td>\n",
              "      <td>spotify:user:predict0</td>\n",
              "      <td>2018-08-28T19:51:58Z</td>\n",
              "      <td>...</td>\n",
              "      <td>-7.517</td>\n",
              "      <td>1</td>\n",
              "      <td>0.0380</td>\n",
              "      <td>0.016800</td>\n",
              "      <td>0.007230</td>\n",
              "      <td>0.0706</td>\n",
              "      <td>0.210</td>\n",
              "      <td>123.962</td>\n",
              "      <td>4</td>\n",
              "      <td>9</td>\n",
              "    </tr>\n",
              "  </tbody>\n",
              "</table>\n",
              "<p>10 rows × 24 columns</p>\n",
              "</div>"
            ],
            "text/plain": [
              "               Spotify ID                              Artist IDs  \\\n",
              "0  22a0Ji6EQKkY0tBohlN4Od                      qLyYYhSlsjwymwVKwW   \n",
              "1  4J39ZEbwqHwtWLImUKmrn9  CRfAxYjJsDBHwvWFnjaRRRPXwFwQmoTNqNHBGU   \n",
              "2  0a12d4HUjOmQSqHqLopWYx                      hytHTGTflktWAhKcxQ   \n",
              "3  4u1DykFW1HjYAGNoDCiXfC        WjyoJHRHlTbUTZTwqpAgeqmtJlARXjon   \n",
              "4  0u7JZm9ORerlZnnxxSdMwl                      AdKmjgFzpcTvmVfGwR   \n",
              "5  0wuy2BYIVLbflFDqnR9Jay                      kCwrYUFSJCubbbnZrE   \n",
              "6  6LkIZZRrPQIbHMyBR5mTc2                   TOsWuafqeWtrvYXqbnYAV   \n",
              "7  5U27fxNSd27XtX876xUsfV      HsKUExgNcRJojPmBcNqzgwpvzedAIjuDBM   \n",
              "8  5ogJOpmyDsvrAdttU6JLnN                      gslbnQQLLcNzfjnxQY   \n",
              "9  65rLHt6A58MFRxlNWVDU1Z                        WlYiRrlrChWktQDo   \n",
              "\n",
              "              Track Name       Album Name          Artist Name(s)  \\\n",
              "0          There You Are    There You Are           KirstenLudwig   \n",
              "1                88 Days             Heat        SaraKingIanOlney   \n",
              "2               Castaway         Castaway                  ARZLEE   \n",
              "3                 Arouse           Arouse    Shagabondgoodboynoah   \n",
              "4                 Lonely           Lonely                 Hayleau   \n",
              "5                  Orsay  Strange Affairs                TheSvens   \n",
              "6                Nurture          Comrade               IslandFox   \n",
              "7  Dinosaur Hair - Remix    Dinosaur Hair  AndyFerroCharlieConway   \n",
              "8   Breathing Underwater    Long Way Down             MorningWars   \n",
              "9                 Summer           Summer                    NoSo   \n",
              "\n",
              "  Release Date  Duration (ms)  Popularity               Added By  \\\n",
              "0   2018-08-06         231240           2  spotify:user:predict0   \n",
              "1   2018-08-04         227961           8  spotify:user:predict0   \n",
              "2   2018-08-10         230000           0  spotify:user:predict0   \n",
              "3   2018-08-03         213913          30  spotify:user:predict0   \n",
              "4   2018-08-10         258738          21  spotify:user:predict0   \n",
              "5   2018-08-03         413658           6  spotify:user:predict0   \n",
              "6   2018-08-09         191641           0  spotify:user:predict0   \n",
              "7   2018-08-10         257152           1  spotify:user:predict0   \n",
              "8   2018-08-03         174999           0  spotify:user:predict0   \n",
              "9   2018-08-01         232746          22  spotify:user:predict0   \n",
              "\n",
              "               Added At  ... Loudness  Mode  Speechiness  Acousticness  \\\n",
              "0  2018-08-28T19:51:58Z  ...   -5.596     0       0.0304      0.334000   \n",
              "1  2018-08-28T19:51:58Z  ...  -10.749     1       0.0333      0.134000   \n",
              "2  2018-08-28T19:51:58Z  ...  -11.290     1       0.0314      0.110000   \n",
              "3  2018-08-28T19:51:58Z  ...   -6.066     1       0.4330      0.072800   \n",
              "4  2018-08-28T19:51:58Z  ...   -3.921     0       0.0406      0.016900   \n",
              "5  2018-08-28T19:51:58Z  ...  -11.858     1       0.0316      0.048600   \n",
              "6  2018-08-28T19:51:58Z  ...  -11.415     0       0.0504      0.015900   \n",
              "7  2018-08-28T19:51:58Z  ...  -10.086     1       0.0383      0.456000   \n",
              "8  2018-08-28T19:51:58Z  ...  -11.258     0       0.0461      0.000005   \n",
              "9  2018-08-28T19:51:58Z  ...   -7.517     1       0.0380      0.016800   \n",
              "\n",
              "   Instrumentalness  Liveness  Valence    Tempo  Time Signature  order_id  \n",
              "0          0.282000    0.1050    0.316  129.856               4         0  \n",
              "1          0.582000    0.1340    0.233  155.062               4         1  \n",
              "2          0.000032    0.1190    0.290   83.988               4         2  \n",
              "3          0.000000    0.3680    0.533   91.961               4         3  \n",
              "4          0.000630    0.0542    0.577   98.954               4         4  \n",
              "5          0.886000    0.1280    0.283  122.992               4         5  \n",
              "6          0.639000    0.1810    0.266  133.925               4         6  \n",
              "7          0.920000    0.1350    0.663  125.908               4         7  \n",
              "8          0.020400    0.1150    0.477  150.042               4         8  \n",
              "9          0.007230    0.0706    0.210  123.962               4         9  \n",
              "\n",
              "[10 rows x 24 columns]"
            ]
          },
          "execution_count": 12,
          "metadata": {},
          "output_type": "execute_result"
        }
      ],
      "source": [
        "# Visualizamos os dados\n",
        "df_projeto.head(10)"
      ]
    },
    {
      "cell_type": "code",
      "execution_count": null,
      "metadata": {
        "id": "CupXVBOjsgIa"
      },
      "outputs": [],
      "source": [
        "# Convertemos o dataframe em um dicionário de músicas\n",
        "dict_musicas = df_projeto.to_dict(orient = \"records\")"
      ]
    },
    {
      "cell_type": "code",
      "execution_count": null,
      "metadata": {
        "id": "ZjbH0FVlsgIa",
        "outputId": "ec69524d-18d2-41a6-9cc8-ec52dd2c4afb"
      },
      "outputs": [
        {
          "data": {
            "text/plain": [
              "[{'Spotify ID': '4J39ZEbwqHwtWLImUKmrn9',\n",
              "  'Artist IDs': 'CRfAxYjJsDBHwvWFnjaRRRPXwFwQmoTNqNHBGU',\n",
              "  'Track Name': '88 Days',\n",
              "  'Album Name': 'Heat',\n",
              "  'Artist Name(s)': 'SaraKingIanOlney',\n",
              "  'Release Date': '2018-08-04',\n",
              "  'Duration (ms)': 227961,\n",
              "  'Popularity': 8,\n",
              "  'Added By': 'spotify:user:predict0',\n",
              "  'Added At': '2018-08-28T19:51:58Z',\n",
              "  'Genres': 'bedroom pop',\n",
              "  'Danceability': 0.335,\n",
              "  'Energy': 0.401,\n",
              "  'Key': 3,\n",
              "  'Loudness': -10.749,\n",
              "  'Mode': 1,\n",
              "  'Speechiness': 0.0333,\n",
              "  'Acousticness': 0.134,\n",
              "  'Instrumentalness': 0.582,\n",
              "  'Liveness': 0.134,\n",
              "  'Valence': 0.233,\n",
              "  'Tempo': 155.062,\n",
              "  'Time Signature': 4,\n",
              "  'order_id': 1},\n",
              " {'Spotify ID': '0a12d4HUjOmQSqHqLopWYx',\n",
              "  'Artist IDs': 'hytHTGTflktWAhKcxQ',\n",
              "  'Track Name': 'Castaway',\n",
              "  'Album Name': 'Castaway',\n",
              "  'Artist Name(s)': 'ARZLEE',\n",
              "  'Release Date': '2018-08-10',\n",
              "  'Duration (ms)': 230000,\n",
              "  'Popularity': 0,\n",
              "  'Added By': 'spotify:user:predict0',\n",
              "  'Added At': '2018-08-28T19:51:58Z',\n",
              "  'Genres': nan,\n",
              "  'Danceability': 0.553,\n",
              "  'Energy': 0.422,\n",
              "  'Key': 1,\n",
              "  'Loudness': -11.29,\n",
              "  'Mode': 1,\n",
              "  'Speechiness': 0.0314,\n",
              "  'Acousticness': 0.11,\n",
              "  'Instrumentalness': 3.25e-05,\n",
              "  'Liveness': 0.119,\n",
              "  'Valence': 0.29,\n",
              "  'Tempo': 83.988,\n",
              "  'Time Signature': 4,\n",
              "  'order_id': 2}]"
            ]
          },
          "execution_count": 14,
          "metadata": {},
          "output_type": "execute_result"
        }
      ],
      "source": [
        "# Verificamos o dicionário dos dados\n",
        "dict_musicas[1:3]"
      ]
    },
    {
      "cell_type": "code",
      "execution_count": null,
      "metadata": {
        "pycharm": {
          "is_executing": true
        },
        "scrolled": true,
        "id": "FEbv00v3sgIb"
      },
      "outputs": [],
      "source": [
        "# Kafka Producer\n",
        "if __name__ == \"__main__\":\n",
        "\n",
        "    # Cria o producer\n",
        "    producer = KafkaProducer(bootstrap_servers = SERVER,\n",
        "                             value_serializer = lambda x: x.encode('utf-8'))\n",
        "\n",
        "    # Variáveis de controle\n",
        "    send = []\n",
        "    send = None\n",
        "\n",
        "    # Loop pelo dicionário de músicas\n",
        "    for musica in dict_musicas:\n",
        "\n",
        "        # Cria a lista com dados que serão enviados para o Kafka\n",
        "        sending = []\n",
        "\n",
        "        # Append de cada coluna\n",
        "        sending.append(musica[\"order_id\"])\n",
        "        sending.append(musica[\"Spotify ID\"])\n",
        "        sending.append(musica[\"Track Name\"])\n",
        "        sending.append(musica[\"Popularity\"])\n",
        "        sending.append(musica[\"Duration (ms)\"])\n",
        "        sending.append(musica[\"Artist Name(s)\"])\n",
        "        sending.append(musica[\"Artist IDs\"])\n",
        "        sending.append(musica[\"Release Date\"])\n",
        "        sending.append(musica[\"Danceability\"])\n",
        "        sending.append(musica[\"Energy\"])\n",
        "        sending.append(musica[\"Key\"])\n",
        "        sending.append(musica[\"Loudness\"])\n",
        "        sending.append(musica[\"Mode\"])\n",
        "        sending.append(musica[\"Speechiness\"])\n",
        "        sending.append(musica[\"Acousticness\"])\n",
        "        sending.append(musica[\"Instrumentalness\"])\n",
        "        sending.append(musica[\"Liveness\"])\n",
        "        sending.append(musica[\"Valence\"])\n",
        "        sending.append(musica[\"Tempo\"])\n",
        "        sending.append(musica[\"Time Signature\"])\n",
        "\n",
        "        # Junta tudo\n",
        "        musica = ','.join(str(v) for v in sending)\n",
        "\n",
        "        # Envia os dados para o tópico\n",
        "        print(\"Próxima Música:\" )\n",
        "        print(musica)\n",
        "        producer.send(TOPIC, musica)\n",
        "        time.sleep(1)\n",
        "\n",
        "    print(\"Concluído\")"
      ]
    },
    {
      "cell_type": "markdown",
      "metadata": {
        "id": "JoJvNyYj1OnB"
      },
      "source": [
        "## Stream 1: Extração de dados em tempo real com Spark"
      ]
    },
    {
      "cell_type": "markdown",
      "source": [],
      "metadata": {
        "id": "3kX3XSmFtkam"
      }
    },
    {
      "cell_type": "code",
      "execution_count": null,
      "metadata": {
        "id": "_BUjhwCRxCAg"
      },
      "outputs": [],
      "source": [
        "# Endereço do servidor Kafka\n",
        "SERVER = 'localhost:9092'"
      ]
    },
    {
      "cell_type": "code",
      "execution_count": null,
      "metadata": {
        "id": "0WT8LHVmxCAh"
      },
      "outputs": [],
      "source": [
        "# Nome do tópico\n",
        "TOPIC = \"projeto\""
      ]
    },
    {
      "cell_type": "code",
      "execution_count": null,
      "metadata": {
        "id": "ZbIK12vuxCAh"
      },
      "outputs": [],
      "source": [
        "# Conectores do Spark para o Apache Kafka\n",
        "spark_jars =  (\"{},{},{},{},{}\".format(os.getcwd() + \"/jars/spark-sql-kafka-0-10_2.12-3.2.1.jar\",\n",
        "                                       os.getcwd() + \"/jars/kafka-clients-2.1.1.jar\",\n",
        "                                       os.getcwd() + \"/jars/spark-streaming-kafka-0-10-assembly_2.12-3.3.2.jar\",\n",
        "                                       os.getcwd() + \"/jars/commons-pool2-2.8.0.jar\",\n",
        "                                       os.getcwd() + \"/jars/spark-token-provider-kafka-0-10_2.12-3.1.2.jar\"))"
      ]
    },
    {
      "cell_type": "code",
      "execution_count": null,
      "metadata": {
        "id": "yp5mOU1bxCAi",
        "outputId": "ef153e29-9590-46c7-94cc-8dd53ab16fc9"
      },
      "outputs": [
        {
          "name": "stdout",
          "output_type": "stream",
          "text": [
            "23/07/15 16:11:56 WARN Utils: Your hostname, DESKTOP resolves to a loopback address: 127.0.1.1; using 172.26.138.20 instead (on interface eth0)\n",
            "23/07/15 16:11:57 WARN Utils: Set SPARK_LOCAL_IP if you need to bind to another address\n",
            "23/07/15 16:12:00 WARN NativeCodeLoader: Unable to load native-hadoop library for your platform... using builtin-java classes where applicable\n"
          ]
        },
        {
          "name": "stderr",
          "output_type": "stream",
          "text": [
            "Setting default log level to \"WARN\".\n",
            "To adjust logging level use sc.setLogLevel(newLevel). For SparkR, use setLogLevel(newLevel).\n"
          ]
        }
      ],
      "source": [
        "# Inicializa sessão Spark\n",
        "spark = SparkSession \\\n",
        "        .builder \\\n",
        "        .config(\"spark.jars\", spark_jars) \\\n",
        "        .appName(\"mini_projeto\") \\\n",
        "        .getOrCreate()"
      ]
    },
    {
      "cell_type": "code",
      "execution_count": null,
      "metadata": {
        "id": "EJbxnI1-xCAj"
      },
      "outputs": [],
      "source": [
        "# Filtra somente avisos de error\n",
        "spark.sparkContext.setLogLevel(\"ERROR\")"
      ]
    },
    {
      "cell_type": "code",
      "execution_count": null,
      "metadata": {
        "id": "sZEi2W7oxCAj"
      },
      "outputs": [],
      "source": [
        "# Usamos o Spark Streaming para leitura do streaming de dados do Kafka e salvamos em um dataframe\n",
        "df = spark \\\n",
        "        .readStream \\\n",
        "        .format(\"kafka\") \\\n",
        "        .option(\"kafka.bootstrap.servers\", SERVER) \\\n",
        "        .option(\"subscribe\", TOPIC) \\\n",
        "        .option(\"startingOffsets\", \"latest\") \\\n",
        "        .load()"
      ]
    },
    {
      "cell_type": "code",
      "execution_count": null,
      "metadata": {
        "id": "H65xVt3bxCAk"
      },
      "outputs": [],
      "source": [
        "# Selecionamos a coluna timestamp como string e salvamos em um novo dataframe\n",
        "df1 = df.selectExpr(\"CAST(value AS STRING)\", \"timestamp\")"
      ]
    },
    {
      "cell_type": "code",
      "execution_count": null,
      "metadata": {
        "id": "frYulUR4xCAk"
      },
      "outputs": [],
      "source": [
        "# Definimos o schema com o nome de cada coluna e o tipo de dado\n",
        "def_schema = \"order_id INT, id STRING, name STRING, popularity INT, duration_ms DOUBLE, \" \\\n",
        "             + \"artists STRING, id_artists STRING, release_date STRING, \" \\\n",
        "             + \"danceability DOUBLE,energy DOUBLE, key INT, loudness DOUBLE, \" \\\n",
        "             + \"mode INT,speechiness DOUBLE,\" \\\n",
        "             + \"acousticness DOUBLE, instrumentalness DOUBLE, liveness DOUBLE, \" \\\n",
        "             + \"valence DOUBLE, tempo DOUBLE, time_signature DOUBLE\""
      ]
    },
    {
      "cell_type": "code",
      "execution_count": null,
      "metadata": {
        "id": "P1pOL9gzxCAk"
      },
      "outputs": [],
      "source": [
        "# Selecionamos o streaming de dados de acordo com o schema e salvamos em um novo dataframe\n",
        "df2 = df1.select(from_csv(col(\"value\"), def_schema).alias(\"song\"), \"timestamp\")"
      ]
    },
    {
      "cell_type": "code",
      "execution_count": null,
      "metadata": {
        "id": "ABuldXp-xCAk",
        "outputId": "36b2162b-8d55-4982-9e45-4659b1d3a419"
      },
      "outputs": [
        {
          "name": "stdout",
          "output_type": "stream",
          "text": [
            "root\n",
            " |-- order_id: integer (nullable = true)\n",
            " |-- id: string (nullable = true)\n",
            " |-- name: string (nullable = true)\n",
            " |-- popularity: integer (nullable = true)\n",
            " |-- duration_ms: double (nullable = true)\n",
            " |-- artists: string (nullable = true)\n",
            " |-- id_artists: string (nullable = true)\n",
            " |-- release_date: string (nullable = true)\n",
            " |-- danceability: double (nullable = true)\n",
            " |-- energy: double (nullable = true)\n",
            " |-- key: integer (nullable = true)\n",
            " |-- loudness: double (nullable = true)\n",
            " |-- mode: integer (nullable = true)\n",
            " |-- speechiness: double (nullable = true)\n",
            " |-- acousticness: double (nullable = true)\n",
            " |-- instrumentalness: double (nullable = true)\n",
            " |-- liveness: double (nullable = true)\n",
            " |-- valence: double (nullable = true)\n",
            " |-- tempo: double (nullable = true)\n",
            " |-- time_signature: double (nullable = true)\n",
            " |-- timestamp: timestamp (nullable = true)\n",
            "\n"
          ]
        }
      ],
      "source": [
        "# Criamos uma view na memória do Spark e visualizamos o schema\n",
        "df3 = df2.select(\"song.*\", \"timestamp\")\n",
        "df3.createOrReplaceTempView(\"df3_View\");\n",
        "df3.printSchema()"
      ]
    },
    {
      "cell_type": "code",
      "execution_count": null,
      "metadata": {
        "id": "i8CmlNkfxCAl"
      },
      "outputs": [],
      "source": [
        "# Selecionamos os dados com as músicas do stream\n",
        "musicas_stream = spark.sql(\"SELECT * FROM df3_View\")"
      ]
    },
    {
      "cell_type": "code",
      "execution_count": null,
      "metadata": {
        "id": "oCJ7coDaxCAl"
      },
      "outputs": [],
      "source": [
        "# Não podemos visualizar ainda, pois temos que gerar o stream do Spark Streaming\n",
        "# musicas_stream.show()"
      ]
    },
    {
      "cell_type": "code",
      "execution_count": null,
      "metadata": {
        "id": "kqmhDGkIxCAl",
        "outputId": "f4d7882d-24a9-4b95-aa6b-2eed225ce870"
      },
      "outputs": [
        {
          "data": {
            "text/plain": [
              "False"
            ]
          },
          "execution_count": 18,
          "metadata": {},
          "output_type": "execute_result"
        }
      ],
      "source": [
        "# Criamos o stream de dados no Spark Streaming\n",
        "musicas_stream_spark = musicas_stream \\\n",
        "        .writeStream \\\n",
        "        .trigger(processingTime = '5 seconds') \\\n",
        "        .outputMode(\"append\") \\\n",
        "        .option(\"truncate\", \"false\") \\\n",
        "        .format(\"memory\") \\\n",
        "        .queryName(\"tabela_spark\") \\\n",
        "        .start()\n",
        "\n",
        "musicas_stream_spark.awaitTermination(1)"
      ]
    },
    {
      "cell_type": "code",
      "execution_count": null,
      "metadata": {
        "id": "9taUGRGrxCAl"
      },
      "outputs": [],
      "source": [
        "# Selecionamos as músicas da tabela de stream do Spark\n",
        "spark_songs = spark.sql(\"SELECT * FROM tabela_spark\")"
      ]
    },
    {
      "cell_type": "code",
      "execution_count": null,
      "metadata": {
        "id": "t-_h8A32xCAm",
        "outputId": "7bb8f07e-e21f-4ada-ec0d-3300b3886892"
      },
      "outputs": [
        {
          "name": "stdout",
          "output_type": "stream",
          "text": [
            "+--------+--------------------+-----------------+----------+-----------+------------+--------------------+------------+------------+------+---+--------+----+-----------+------------+----------------+--------+-------+-------+--------------+--------------------+\n",
            "|order_id|                  id|             name|popularity|duration_ms|     artists|          id_artists|release_date|danceability|energy|key|loudness|mode|speechiness|acousticness|instrumentalness|liveness|valence|  tempo|time_signature|           timestamp|\n",
            "+--------+--------------------+-----------------+----------+-----------+------------+--------------------+------------+------------+------+---+--------+----+-----------+------------+----------------+--------+-------+-------+--------------+--------------------+\n",
            "|    1504|0eZc30Bn99wP31p2c...|Californian Light|         0|   253746.0|   Childhood| UGBaLizWYmJGOPlPXra|  2017-04-27|        0.49| 0.754|  7|  -8.374|   0|      0.044|      0.0766|         8.43E-5|   0.158|  0.741| 94.451|           4.0|2023-07-15 16:12:...|\n",
            "|    1505|6dJ2A0caAl2wI1sO8...|       Dusty Eyes|         0|   277773.0|    Bedouine|   IiZemRMnaqNhiRkYI|  2017-04-18|       0.522| 0.279|  4|  -11.82|   1|      0.027|       0.592|         0.00539|   0.183|  0.381|118.952|           3.0|2023-07-15 16:12:...|\n",
            "|    1506|0rQOpOeqsk1ob18EV...|             Rain|         0|   174265.0|       Jonti|    BqSMoCEcpMYpxogT|  2017-04-28|       0.406| 0.707|  4|  -8.987|   0|     0.0583|      0.0324|          0.0259|   0.103|  0.372|170.088|           4.0|2023-07-15 16:12:...|\n",
            "|    1507|4qdUMyUHC8lK3RTrr...|     Pull Me Down|         0|   206000.0|GarrisonCade|ZANrrgwGBrPhtxaQzzvH|  2017-04-14|       0.669| 0.195|  4| -17.552|   1|       0.11|       0.824|         7.39E-6|   0.115|  0.345| 60.326|           4.0|2023-07-15 16:12:...|\n",
            "|    1508|53ljs2USVfiTycJO2...|          Funeral|         8|   202909.0|      Reaper| qrgNNbZRRCAKZrKcuZV|  2017-04-10|       0.715| 0.442|  9|  -8.913|   0|     0.0727|      0.0546|         7.58E-4|   0.213|   0.15| 110.02|           4.0|2023-07-15 16:12:...|\n",
            "+--------+--------------------+-----------------+----------+-----------+------------+--------------------+------------+------------+------+---+--------+----+-----------+------------+----------------+--------+-------+-------+--------------+--------------------+\n",
            "only showing top 5 rows\n",
            "\n"
          ]
        }
      ],
      "source": [
        "# Agora sim podemos visualizar o stream em tempo real como tabela do Spark\n",
        "spark_songs.show(5)"
      ]
    },
    {
      "cell_type": "code",
      "execution_count": null,
      "metadata": {
        "id": "qNuTTo6mxCAm",
        "outputId": "de14c58d-5914-4afd-b37f-43f0883f8a53"
      },
      "outputs": [
        {
          "name": "stdout",
          "output_type": "stream",
          "text": [
            "+--------+--------------------+-----------------+----------+-----------+------------+\n",
            "|order_id|                  id|             name|popularity|duration_ms|     artists|\n",
            "+--------+--------------------+-----------------+----------+-----------+------------+\n",
            "|    1504|0eZc30Bn99wP31p2c...|Californian Light|         0|   253746.0|   Childhood|\n",
            "|    1505|6dJ2A0caAl2wI1sO8...|       Dusty Eyes|         0|   277773.0|    Bedouine|\n",
            "|    1506|0rQOpOeqsk1ob18EV...|             Rain|         0|   174265.0|       Jonti|\n",
            "|    1507|4qdUMyUHC8lK3RTrr...|     Pull Me Down|         0|   206000.0|GarrisonCade|\n",
            "|    1508|53ljs2USVfiTycJO2...|          Funeral|         8|   202909.0|      Reaper|\n",
            "+--------+--------------------+-----------------+----------+-----------+------------+\n",
            "only showing top 5 rows\n",
            "\n"
          ]
        }
      ],
      "source": [
        "# Podemos visualizar apenas algumas colunas, por exemplo\n",
        "spark_songs.select('order_id', 'id', 'name', 'popularity', 'duration_ms', 'artists').show(5)"
      ]
    },
    {
      "cell_type": "code",
      "execution_count": null,
      "metadata": {
        "id": "Fqifg3SrxCAn",
        "outputId": "59d469c1-affe-4405-84a5-1762647ebebc"
      },
      "outputs": [
        {
          "data": {
            "text/plain": [
              "713"
            ]
          },
          "execution_count": 77,
          "metadata": {},
          "output_type": "execute_result"
        }
      ],
      "source": [
        "# Contagem de músicas extraídas em tempo real\n",
        "spark_songs.count()"
      ]
    },
    {
      "cell_type": "code",
      "execution_count": null,
      "metadata": {
        "id": "WMFl6QWbxCAp",
        "outputId": "9ca6c25e-1927-4bc4-e74b-650edf83efb3"
      },
      "outputs": [
        {
          "name": "stderr",
          "output_type": "stream",
          "text": [
            "                                                                                \r"
          ]
        },
        {
          "data": {
            "text/plain": [
              "DataFrame[summary: string, order_id: string, id: string, name: string, popularity: string, duration_ms: string, artists: string, id_artists: string, release_date: string, danceability: string, energy: string, key: string, loudness: string, mode: string, speechiness: string, acousticness: string, instrumentalness: string, liveness: string, valence: string, tempo: string, time_signature: string]"
            ]
          },
          "execution_count": 78,
          "metadata": {},
          "output_type": "execute_result"
        }
      ],
      "source": [
        "# Verificamos a descrição dos dados\n",
        "spark_songs.describe()"
      ]
    },
    {
      "cell_type": "markdown",
      "metadata": {
        "id": "UG2LTPscxCAq"
      },
      "source": [
        "Aguarde alguns minutos antes de seguir com a execução para que o streaming de dados possa ser coletado."
      ]
    },
    {
      "cell_type": "markdown",
      "source": [
        "## Stream 2: Extração das preferências de usuário na API do Spotify"
      ],
      "metadata": {
        "id": "_rBFMqUk2pkF"
      }
    },
    {
      "cell_type": "markdown",
      "metadata": {
        "id": "qa9d91TexCAq"
      },
      "source": [
        "> Vamos agora trabalhar na extração de dados do Spotify."
      ]
    },
    {
      "cell_type": "markdown",
      "metadata": {
        "id": "ZI6eCS0JxCAs"
      },
      "source": [
        "Acesse o link abaixo que contém os detalhes para a criação da API:\n",
        "https://developer.spotify.com/documentation/general/guides/authorization/scopes/  "
      ]
    },
    {
      "cell_type": "code",
      "execution_count": null,
      "metadata": {
        "id": "FmVr4RnOxCAs"
      },
      "outputs": [],
      "source": [
        "# Aqui colocamos as chaves de usário da API do Spotify\n",
        "os.environ[\"SPOTIPY_CLIENT_ID\"] = '2fe24fe2d68e49d7ba6c2e49a924bb16'\n",
        "os.environ[\"SPOTIPY_CLIENT_SECRET\"] = '1d721e8654e14033834ee3e78574f752'\n",
        "os.environ[\"SPOTIPY_REDIRECT_URI\"] = 'http://localhost:7777/callback'"
      ]
    },
    {
      "cell_type": "code",
      "execution_count": null,
      "metadata": {
        "id": "r5yOzTlvxCAs"
      },
      "outputs": [],
      "source": [
        "# Escopo de extração das preferências do usuário\n",
        "scope = 'user-library-read'"
      ]
    },
    {
      "cell_type": "code",
      "execution_count": null,
      "metadata": {
        "id": "nECHLTqlxCAt"
      },
      "outputs": [],
      "source": [
        "# Username no Spotify\n",
        "username = 'brunoazambuja@gmail.com'"
      ]
    },
    {
      "cell_type": "code",
      "execution_count": null,
      "metadata": {
        "id": "UvH_D4E8xCAt"
      },
      "outputs": [],
      "source": [
        "# Criação do token de acesso\n",
        "token = spotipy.util.prompt_for_user_token(username, scope)"
      ]
    },
    {
      "cell_type": "code",
      "execution_count": null,
      "metadata": {
        "id": "zmjYtEd9xCAu",
        "outputId": "20dacbe5-2a62-4670-9a5a-c3d7b9755912"
      },
      "outputs": [
        {
          "name": "stderr",
          "output_type": "stream",
          "text": [
            "\r",
            "[Stage 374:>                                                        (0 + 1) / 1]\r",
            "\r",
            "                                                                                \r"
          ]
        }
      ],
      "source": [
        "# Cria o objeto de autenticação\n",
        "spotipy_obj = spotipy.Spotify(auth = token)"
      ]
    },
    {
      "cell_type": "code",
      "execution_count": null,
      "metadata": {
        "id": "7lJjuYzuxCAu"
      },
      "outputs": [],
      "source": [
        "# Extrai até 50 músicas da lista de favoritos do usuário\n",
        "saved_tracks = spotipy_obj.current_user_saved_tracks(limit = 50)"
      ]
    },
    {
      "cell_type": "code",
      "execution_count": null,
      "metadata": {
        "id": "4SXK55RkxCAv",
        "outputId": "3a90ba30-3fb4-46a1-f655-dfbf428597b5"
      },
      "outputs": [
        {
          "name": "stdout",
          "output_type": "stream",
          "text": [
            "Total de Tracks: 50 \n"
          ]
        }
      ],
      "source": [
        "# Número de músicas extraídas\n",
        "n_tracks = saved_tracks['total']\n",
        "print('Total de Tracks: %d ' % n_tracks)"
      ]
    },
    {
      "cell_type": "code",
      "execution_count": null,
      "metadata": {
        "id": "Grwc3d66xCA1"
      },
      "outputs": [],
      "source": [
        "# Função para extrair os atributos da lista de músicas do usuário\n",
        "def select_features(track_response):\n",
        "    return {\n",
        "        'id': str(track_response['track']['id']),\n",
        "        'name': str(track_response['track']['name']),\n",
        "        'artists': [artist['name'] for artist in track_response['track']['artists']],\n",
        "        'popularity': track_response['track']['popularity']\n",
        "    }"
      ]
    },
    {
      "cell_type": "code",
      "execution_count": null,
      "metadata": {
        "id": "xjnwWwdCxCA1"
      },
      "outputs": [],
      "source": [
        "# Aplica a função\n",
        "tracks = [select_features(track) for track in saved_tracks['items']]"
      ]
    },
    {
      "cell_type": "code",
      "execution_count": null,
      "metadata": {
        "id": "P0IZvGVWxCA2"
      },
      "outputs": [],
      "source": [
        "# Extrai os atributos das músicas preferidas do usuário\n",
        "while saved_tracks['next']:\n",
        "    saved_tracks = spotipy_obj.next(saved_tracks)\n",
        "    tracks.extend([select_features(track) for track in saved_tracks['items']])"
      ]
    },
    {
      "cell_type": "code",
      "execution_count": null,
      "metadata": {
        "id": "cbFiBv1mxCA2"
      },
      "outputs": [],
      "source": [
        "# Criamos o dataframe do pandas\n",
        "df_tracks = pd.DataFrame(tracks)\n",
        "pd.set_option('display.max_rows', len(tracks))\n",
        "df_tracks['artists'] = df_tracks['artists'].apply(lambda artists: artists[0])"
      ]
    },
    {
      "cell_type": "code",
      "execution_count": null,
      "metadata": {
        "id": "wrCVjQ3QxCA2",
        "outputId": "ef7ee9cc-13a2-4344-86d3-a5f4cf291904"
      },
      "outputs": [
        {
          "data": {
            "text/html": [
              "<div>\n",
              "<style scoped>\n",
              "    .dataframe tbody tr th:only-of-type {\n",
              "        vertical-align: middle;\n",
              "    }\n",
              "\n",
              "    .dataframe tbody tr th {\n",
              "        vertical-align: top;\n",
              "    }\n",
              "\n",
              "    .dataframe thead th {\n",
              "        text-align: right;\n",
              "    }\n",
              "</style>\n",
              "<table border=\"1\" class=\"dataframe\">\n",
              "  <thead>\n",
              "    <tr style=\"text-align: right;\">\n",
              "      <th></th>\n",
              "      <th>id</th>\n",
              "      <th>name</th>\n",
              "      <th>artists</th>\n",
              "      <th>popularity</th>\n",
              "    </tr>\n",
              "  </thead>\n",
              "  <tbody>\n",
              "    <tr>\n",
              "      <th>0</th>\n",
              "      <td>2TFch6xh4f0tMf7F6whQYE</td>\n",
              "      <td>Ancora qui</td>\n",
              "      <td>Elisa</td>\n",
              "      <td>0</td>\n",
              "    </tr>\n",
              "    <tr>\n",
              "      <th>1</th>\n",
              "      <td>5519RhpzObr9Mn3iqoeodJ</td>\n",
              "      <td>Come and Get Your Love</td>\n",
              "      <td>Redbone</td>\n",
              "      <td>60</td>\n",
              "    </tr>\n",
              "    <tr>\n",
              "      <th>2</th>\n",
              "      <td>6PvMYScgXixWYc4I0IXJoS</td>\n",
              "      <td>I've Got to Find the Right Woman - Single Version</td>\n",
              "      <td>Redbone</td>\n",
              "      <td>48</td>\n",
              "    </tr>\n",
              "    <tr>\n",
              "      <th>3</th>\n",
              "      <td>76pllrWpfiCoLGhijQBYhO</td>\n",
              "      <td>You Are My Sunshine</td>\n",
              "      <td>Johnny Cash</td>\n",
              "      <td>59</td>\n",
              "    </tr>\n",
              "    <tr>\n",
              "      <th>4</th>\n",
              "      <td>5XVb0qfmmkmmsyy7j8oObk</td>\n",
              "      <td>The Rubberband Man</td>\n",
              "      <td>The Spinners</td>\n",
              "      <td>50</td>\n",
              "    </tr>\n",
              "    <tr>\n",
              "      <th>5</th>\n",
              "      <td>1TfqLAPs4K3s2rJMoCokcS</td>\n",
              "      <td>Sweet Dreams (Are Made of This) - Remastered</td>\n",
              "      <td>Eurythmics</td>\n",
              "      <td>86</td>\n",
              "    </tr>\n",
              "    <tr>\n",
              "      <th>6</th>\n",
              "      <td>70LcF31zb1H0PyJoS1Sx1r</td>\n",
              "      <td>Creep</td>\n",
              "      <td>Radiohead</td>\n",
              "      <td>90</td>\n",
              "    </tr>\n",
              "    <tr>\n",
              "      <th>7</th>\n",
              "      <td>3YfS47QufnLDFA71FUsgCM</td>\n",
              "      <td>The Sound of Silence</td>\n",
              "      <td>Simon &amp; Garfunkel</td>\n",
              "      <td>65</td>\n",
              "    </tr>\n",
              "    <tr>\n",
              "      <th>8</th>\n",
              "      <td>799oYLpNweNgR4imeuEPn9</td>\n",
              "      <td>Just The Way You Are</td>\n",
              "      <td>Barry White</td>\n",
              "      <td>33</td>\n",
              "    </tr>\n",
              "    <tr>\n",
              "      <th>9</th>\n",
              "      <td>5pztwVl6brVgqYjYQ93us6</td>\n",
              "      <td>Stand by Me</td>\n",
              "      <td>Seal</td>\n",
              "      <td>63</td>\n",
              "    </tr>\n",
              "  </tbody>\n",
              "</table>\n",
              "</div>"
            ],
            "text/plain": [
              "                       id                                               name  \\\n",
              "0  2TFch6xh4f0tMf7F6whQYE                                         Ancora qui   \n",
              "1  5519RhpzObr9Mn3iqoeodJ                             Come and Get Your Love   \n",
              "2  6PvMYScgXixWYc4I0IXJoS  I've Got to Find the Right Woman - Single Version   \n",
              "3  76pllrWpfiCoLGhijQBYhO                                You Are My Sunshine   \n",
              "4  5XVb0qfmmkmmsyy7j8oObk                                 The Rubberband Man   \n",
              "5  1TfqLAPs4K3s2rJMoCokcS       Sweet Dreams (Are Made of This) - Remastered   \n",
              "6  70LcF31zb1H0PyJoS1Sx1r                                              Creep   \n",
              "7  3YfS47QufnLDFA71FUsgCM                               The Sound of Silence   \n",
              "8  799oYLpNweNgR4imeuEPn9                               Just The Way You Are   \n",
              "9  5pztwVl6brVgqYjYQ93us6                                        Stand by Me   \n",
              "\n",
              "             artists  popularity  \n",
              "0              Elisa           0  \n",
              "1            Redbone          60  \n",
              "2            Redbone          48  \n",
              "3        Johnny Cash          59  \n",
              "4       The Spinners          50  \n",
              "5         Eurythmics          86  \n",
              "6          Radiohead          90  \n",
              "7  Simon & Garfunkel          65  \n",
              "8        Barry White          33  \n",
              "9               Seal          63  "
            ]
          },
          "execution_count": 93,
          "metadata": {},
          "output_type": "execute_result"
        }
      ],
      "source": [
        "df_tracks.head(10)"
      ]
    },
    {
      "cell_type": "code",
      "execution_count": null,
      "metadata": {
        "id": "F0lqs3DvxCA3",
        "outputId": "4e720c0a-e8cf-4ed0-a32f-f719d84f5377"
      },
      "outputs": [
        {
          "name": "stderr",
          "output_type": "stream",
          "text": [
            "                                                                                \r"
          ]
        }
      ],
      "source": [
        "# Dicionário para os atributos de áudio\n",
        "audio_features = {}"
      ]
    },
    {
      "cell_type": "code",
      "execution_count": null,
      "metadata": {
        "id": "Dg4_oeu6xCA3"
      },
      "outputs": [],
      "source": [
        "# Extrai os atributos de áudio\n",
        "for idd in df_tracks['id'].tolist():\n",
        "    audio_features[idd] = spotipy_obj.audio_features(idd)[0]"
      ]
    },
    {
      "cell_type": "code",
      "execution_count": null,
      "metadata": {
        "id": "LErWpKsXxCA3"
      },
      "outputs": [],
      "source": [
        "# Adicionamos os atributos de áudio ao dataframe\n",
        "df_tracks['acousticness'] = df_tracks['id'].apply(lambda idd: audio_features[idd]['acousticness'])\n",
        "df_tracks['speechiness'] = df_tracks['id'].apply(lambda idd: audio_features[idd]['speechiness'])\n",
        "df_tracks['key'] = df_tracks['id'].apply(lambda idd: str(audio_features[idd]['key']))\n",
        "df_tracks['liveness'] = df_tracks['id'].apply(lambda idd: audio_features[idd]['liveness'])\n",
        "df_tracks['instrumentalness'] = df_tracks['id'].apply(lambda idd: audio_features[idd]['instrumentalness'])\n",
        "df_tracks['energy'] = df_tracks['id'].apply(lambda idd: audio_features[idd]['energy'])\n",
        "df_tracks['tempo'] = df_tracks['id'].apply(lambda idd: audio_features[idd]['tempo'])\n",
        "df_tracks['loudness'] = df_tracks['id'].apply(lambda idd: audio_features[idd]['loudness'])\n",
        "df_tracks['danceability'] = df_tracks['id'].apply(lambda idd: audio_features[idd]['danceability'])\n",
        "df_tracks['valence'] = df_tracks['id'].apply(lambda idd: audio_features[idd]['valence'])"
      ]
    },
    {
      "cell_type": "code",
      "execution_count": null,
      "metadata": {
        "id": "HYiiJ1LlxCA4",
        "outputId": "d1800048-9696-4f72-9161-0fba7c47ff6a"
      },
      "outputs": [
        {
          "data": {
            "text/html": [
              "<div>\n",
              "<style scoped>\n",
              "    .dataframe tbody tr th:only-of-type {\n",
              "        vertical-align: middle;\n",
              "    }\n",
              "\n",
              "    .dataframe tbody tr th {\n",
              "        vertical-align: top;\n",
              "    }\n",
              "\n",
              "    .dataframe thead th {\n",
              "        text-align: right;\n",
              "    }\n",
              "</style>\n",
              "<table border=\"1\" class=\"dataframe\">\n",
              "  <thead>\n",
              "    <tr style=\"text-align: right;\">\n",
              "      <th></th>\n",
              "      <th>id</th>\n",
              "      <th>name</th>\n",
              "      <th>artists</th>\n",
              "      <th>popularity</th>\n",
              "      <th>acousticness</th>\n",
              "      <th>speechiness</th>\n",
              "      <th>key</th>\n",
              "      <th>liveness</th>\n",
              "      <th>instrumentalness</th>\n",
              "      <th>energy</th>\n",
              "      <th>tempo</th>\n",
              "      <th>loudness</th>\n",
              "      <th>danceability</th>\n",
              "      <th>valence</th>\n",
              "    </tr>\n",
              "  </thead>\n",
              "  <tbody>\n",
              "    <tr>\n",
              "      <th>0</th>\n",
              "      <td>2TFch6xh4f0tMf7F6whQYE</td>\n",
              "      <td>Ancora qui</td>\n",
              "      <td>Elisa</td>\n",
              "      <td>0</td>\n",
              "      <td>0.8250</td>\n",
              "      <td>0.0331</td>\n",
              "      <td>9</td>\n",
              "      <td>0.0978</td>\n",
              "      <td>0.007800</td>\n",
              "      <td>0.329</td>\n",
              "      <td>74.041</td>\n",
              "      <td>-9.193</td>\n",
              "      <td>0.244</td>\n",
              "      <td>0.214</td>\n",
              "    </tr>\n",
              "    <tr>\n",
              "      <th>1</th>\n",
              "      <td>5519RhpzObr9Mn3iqoeodJ</td>\n",
              "      <td>Come and Get Your Love</td>\n",
              "      <td>Redbone</td>\n",
              "      <td>60</td>\n",
              "      <td>0.1270</td>\n",
              "      <td>0.0535</td>\n",
              "      <td>11</td>\n",
              "      <td>0.0764</td>\n",
              "      <td>0.000079</td>\n",
              "      <td>0.785</td>\n",
              "      <td>105.543</td>\n",
              "      <td>-6.126</td>\n",
              "      <td>0.674</td>\n",
              "      <td>0.853</td>\n",
              "    </tr>\n",
              "    <tr>\n",
              "      <th>2</th>\n",
              "      <td>6PvMYScgXixWYc4I0IXJoS</td>\n",
              "      <td>I've Got to Find the Right Woman - Single Version</td>\n",
              "      <td>Redbone</td>\n",
              "      <td>48</td>\n",
              "      <td>0.0927</td>\n",
              "      <td>0.0305</td>\n",
              "      <td>11</td>\n",
              "      <td>0.1200</td>\n",
              "      <td>0.000000</td>\n",
              "      <td>0.842</td>\n",
              "      <td>102.684</td>\n",
              "      <td>-5.750</td>\n",
              "      <td>0.554</td>\n",
              "      <td>0.962</td>\n",
              "    </tr>\n",
              "    <tr>\n",
              "      <th>3</th>\n",
              "      <td>76pllrWpfiCoLGhijQBYhO</td>\n",
              "      <td>You Are My Sunshine</td>\n",
              "      <td>Johnny Cash</td>\n",
              "      <td>59</td>\n",
              "      <td>0.8420</td>\n",
              "      <td>0.0893</td>\n",
              "      <td>9</td>\n",
              "      <td>0.5290</td>\n",
              "      <td>0.000001</td>\n",
              "      <td>0.257</td>\n",
              "      <td>89.787</td>\n",
              "      <td>-15.478</td>\n",
              "      <td>0.421</td>\n",
              "      <td>0.560</td>\n",
              "    </tr>\n",
              "    <tr>\n",
              "      <th>4</th>\n",
              "      <td>5XVb0qfmmkmmsyy7j8oObk</td>\n",
              "      <td>The Rubberband Man</td>\n",
              "      <td>The Spinners</td>\n",
              "      <td>50</td>\n",
              "      <td>0.4140</td>\n",
              "      <td>0.0555</td>\n",
              "      <td>10</td>\n",
              "      <td>0.0943</td>\n",
              "      <td>0.000152</td>\n",
              "      <td>0.611</td>\n",
              "      <td>97.264</td>\n",
              "      <td>-9.795</td>\n",
              "      <td>0.821</td>\n",
              "      <td>0.960</td>\n",
              "    </tr>\n",
              "  </tbody>\n",
              "</table>\n",
              "</div>"
            ],
            "text/plain": [
              "                       id                                               name  \\\n",
              "0  2TFch6xh4f0tMf7F6whQYE                                         Ancora qui   \n",
              "1  5519RhpzObr9Mn3iqoeodJ                             Come and Get Your Love   \n",
              "2  6PvMYScgXixWYc4I0IXJoS  I've Got to Find the Right Woman - Single Version   \n",
              "3  76pllrWpfiCoLGhijQBYhO                                You Are My Sunshine   \n",
              "4  5XVb0qfmmkmmsyy7j8oObk                                 The Rubberband Man   \n",
              "\n",
              "        artists  popularity  acousticness  speechiness key  liveness  \\\n",
              "0         Elisa           0        0.8250       0.0331   9    0.0978   \n",
              "1       Redbone          60        0.1270       0.0535  11    0.0764   \n",
              "2       Redbone          48        0.0927       0.0305  11    0.1200   \n",
              "3   Johnny Cash          59        0.8420       0.0893   9    0.5290   \n",
              "4  The Spinners          50        0.4140       0.0555  10    0.0943   \n",
              "\n",
              "   instrumentalness  energy    tempo  loudness  danceability  valence  \n",
              "0          0.007800   0.329   74.041    -9.193         0.244    0.214  \n",
              "1          0.000079   0.785  105.543    -6.126         0.674    0.853  \n",
              "2          0.000000   0.842  102.684    -5.750         0.554    0.962  \n",
              "3          0.000001   0.257   89.787   -15.478         0.421    0.560  \n",
              "4          0.000152   0.611   97.264    -9.795         0.821    0.960  "
            ]
          },
          "execution_count": 97,
          "metadata": {},
          "output_type": "execute_result"
        }
      ],
      "source": [
        "# Verificamos os dados\n",
        "df_tracks.head()"
      ]
    },
    {
      "cell_type": "code",
      "execution_count": null,
      "metadata": {
        "id": "gUqT5L4sxCA4",
        "outputId": "5754388a-1bff-426a-e8fe-3f620d5cbccf"
      },
      "outputs": [
        {
          "data": {
            "text/html": [
              "<div>\n",
              "<style scoped>\n",
              "    .dataframe tbody tr th:only-of-type {\n",
              "        vertical-align: middle;\n",
              "    }\n",
              "\n",
              "    .dataframe tbody tr th {\n",
              "        vertical-align: top;\n",
              "    }\n",
              "\n",
              "    .dataframe thead th {\n",
              "        text-align: right;\n",
              "    }\n",
              "</style>\n",
              "<table border=\"1\" class=\"dataframe\">\n",
              "  <thead>\n",
              "    <tr style=\"text-align: right;\">\n",
              "      <th></th>\n",
              "      <th>id</th>\n",
              "      <th>name</th>\n",
              "      <th>artists</th>\n",
              "      <th>popularity</th>\n",
              "      <th>acousticness</th>\n",
              "      <th>speechiness</th>\n",
              "      <th>key</th>\n",
              "      <th>liveness</th>\n",
              "      <th>instrumentalness</th>\n",
              "      <th>energy</th>\n",
              "      <th>tempo</th>\n",
              "      <th>loudness</th>\n",
              "      <th>danceability</th>\n",
              "      <th>valence</th>\n",
              "    </tr>\n",
              "  </thead>\n",
              "  <tbody>\n",
              "    <tr>\n",
              "      <th>45</th>\n",
              "      <td>7ymjj8XtifcKzdebJ5uJBk</td>\n",
              "      <td>Just Breathe - acoustic at home</td>\n",
              "      <td>Eddie Vedder</td>\n",
              "      <td>49</td>\n",
              "      <td>0.732</td>\n",
              "      <td>0.0279</td>\n",
              "      <td>0</td>\n",
              "      <td>0.111</td>\n",
              "      <td>0.0</td>\n",
              "      <td>0.33</td>\n",
              "      <td>106.921</td>\n",
              "      <td>-10.638</td>\n",
              "      <td>0.431</td>\n",
              "      <td>0.389</td>\n",
              "    </tr>\n",
              "  </tbody>\n",
              "</table>\n",
              "</div>"
            ],
            "text/plain": [
              "                        id                             name       artists  \\\n",
              "45  7ymjj8XtifcKzdebJ5uJBk  Just Breathe - acoustic at home  Eddie Vedder   \n",
              "\n",
              "    popularity  acousticness  speechiness key  liveness  instrumentalness  \\\n",
              "45          49         0.732       0.0279   0     0.111               0.0   \n",
              "\n",
              "    energy    tempo  loudness  danceability  valence  \n",
              "45    0.33  106.921   -10.638         0.431    0.389  "
            ]
          },
          "execution_count": 98,
          "metadata": {},
          "output_type": "execute_result"
        }
      ],
      "source": [
        "# Selecionamos uma música randomicamente\n",
        "musica_randomica = random. randint(0,len(df_tracks)-1)\n",
        "df_musica_randomica = df_tracks.head(musica_randomica)[-1:]\n",
        "df_musica_randomica"
      ]
    },
    {
      "cell_type": "code",
      "execution_count": null,
      "metadata": {
        "id": "uRHdjungxCA4",
        "outputId": "146d143f-57cf-43de-a5c9-bac674e89544"
      },
      "outputs": [
        {
          "name": "stdout",
          "output_type": "stream",
          "text": [
            "+--------+--------------------+-----------------+----------+-----------+------------+--------------------+------------+------------+------+---+--------+----+-----------+------------+----------------+--------+-------+-------+--------------+--------------------+\n",
            "|order_id|                  id|             name|popularity|duration_ms|     artists|          id_artists|release_date|danceability|energy|key|loudness|mode|speechiness|acousticness|instrumentalness|liveness|valence|  tempo|time_signature|           timestamp|\n",
            "+--------+--------------------+-----------------+----------+-----------+------------+--------------------+------------+------------+------+---+--------+----+-----------+------------+----------------+--------+-------+-------+--------------+--------------------+\n",
            "|    1504|0eZc30Bn99wP31p2c...|Californian Light|         0|   253746.0|   Childhood| UGBaLizWYmJGOPlPXra|  2017-04-27|        0.49| 0.754|  7|  -8.374|   0|      0.044|      0.0766|         8.43E-5|   0.158|  0.741| 94.451|           4.0|2023-07-15 16:12:...|\n",
            "|    1505|6dJ2A0caAl2wI1sO8...|       Dusty Eyes|         0|   277773.0|    Bedouine|   IiZemRMnaqNhiRkYI|  2017-04-18|       0.522| 0.279|  4|  -11.82|   1|      0.027|       0.592|         0.00539|   0.183|  0.381|118.952|           3.0|2023-07-15 16:12:...|\n",
            "|    1506|0rQOpOeqsk1ob18EV...|             Rain|         0|   174265.0|       Jonti|    BqSMoCEcpMYpxogT|  2017-04-28|       0.406| 0.707|  4|  -8.987|   0|     0.0583|      0.0324|          0.0259|   0.103|  0.372|170.088|           4.0|2023-07-15 16:12:...|\n",
            "|    1507|4qdUMyUHC8lK3RTrr...|     Pull Me Down|         0|   206000.0|GarrisonCade|ZANrrgwGBrPhtxaQzzvH|  2017-04-14|       0.669| 0.195|  4| -17.552|   1|       0.11|       0.824|         7.39E-6|   0.115|  0.345| 60.326|           4.0|2023-07-15 16:12:...|\n",
            "|    1508|53ljs2USVfiTycJO2...|          Funeral|         8|   202909.0|      Reaper| qrgNNbZRRCAKZrKcuZV|  2017-04-10|       0.715| 0.442|  9|  -8.913|   0|     0.0727|      0.0546|         7.58E-4|   0.213|   0.15| 110.02|           4.0|2023-07-15 16:12:...|\n",
            "+--------+--------------------+-----------------+----------+-----------+------------+--------------------+------------+------------+------+---+--------+----+-----------+------------+----------------+--------+-------+-------+--------------+--------------------+\n",
            "only showing top 5 rows\n",
            "\n"
          ]
        }
      ],
      "source": [
        "# Músicas do streaming do Spark\n",
        "spark_songs.show(5)"
      ]
    },
    {
      "cell_type": "code",
      "execution_count": null,
      "metadata": {
        "id": "Gmgc0VrpxCA4"
      },
      "outputs": [],
      "source": [
        "# Não precisamos mais dessas colunas\n",
        "spark_songs = spark_songs.drop('order_id',\n",
        "                               'mode',\n",
        "                               'release_date',\n",
        "                               'id_artists',\n",
        "                               'time_signature',\n",
        "                               'duration_ms',\n",
        "                               'timestamp')"
      ]
    },
    {
      "cell_type": "code",
      "execution_count": null,
      "metadata": {
        "id": "-CgZmq0hxCA5"
      },
      "outputs": [],
      "source": [
        "# Cria o dataframe com a música escolhida randomicamente\n",
        "df_sp = spark.createDataFrame(df_musica_randomica)"
      ]
    },
    {
      "cell_type": "code",
      "execution_count": null,
      "metadata": {
        "id": "-J_L8dz6xCA5"
      },
      "outputs": [],
      "source": [
        "# Concatena músicas do streaming do Spark com a música do Spotify\n",
        "df = spark_songs.union(df_sp)"
      ]
    },
    {
      "cell_type": "code",
      "execution_count": null,
      "metadata": {
        "id": "Zth7OvyTxCA5",
        "outputId": "c5e816c3-98b6-45dc-c137-07e0eb78543c"
      },
      "outputs": [
        {
          "name": "stdout",
          "output_type": "stream",
          "text": [
            "+--------------------+-----------------+----------+------------+------------+------+---+--------+-----------+------------+----------------+--------+-------+-------+\n",
            "|                  id|             name|popularity|     artists|danceability|energy|key|loudness|speechiness|acousticness|instrumentalness|liveness|valence|  tempo|\n",
            "+--------------------+-----------------+----------+------------+------------+------+---+--------+-----------+------------+----------------+--------+-------+-------+\n",
            "|0eZc30Bn99wP31p2c...|Californian Light|         0|   Childhood|        0.49| 0.754|  7|  -8.374|      0.044|      0.0766|         8.43E-5|   0.158|  0.741| 94.451|\n",
            "|6dJ2A0caAl2wI1sO8...|       Dusty Eyes|         0|    Bedouine|       0.522| 0.279|  4|  -11.82|      0.027|       0.592|         0.00539|   0.183|  0.381|118.952|\n",
            "|0rQOpOeqsk1ob18EV...|             Rain|         0|       Jonti|       0.406| 0.707|  4|  -8.987|     0.0583|      0.0324|          0.0259|   0.103|  0.372|170.088|\n",
            "|4qdUMyUHC8lK3RTrr...|     Pull Me Down|         0|GarrisonCade|       0.669| 0.195|  4| -17.552|       0.11|       0.824|         7.39E-6|   0.115|  0.345| 60.326|\n",
            "|53ljs2USVfiTycJO2...|          Funeral|         8|      Reaper|       0.715| 0.442|  9|  -8.913|     0.0727|      0.0546|         7.58E-4|   0.213|   0.15| 110.02|\n",
            "+--------------------+-----------------+----------+------------+------------+------+---+--------+-----------+------------+----------------+--------+-------+-------+\n",
            "only showing top 5 rows\n",
            "\n"
          ]
        }
      ],
      "source": [
        "# Visualizamos os dados\n",
        "df.show(5)"
      ]
    },
    {
      "cell_type": "markdown",
      "metadata": {
        "id": "ik60Ss63xCA6"
      },
      "source": [
        "## Pré-processamento dos dados"
      ]
    },
    {
      "cell_type": "code",
      "execution_count": null,
      "metadata": {
        "id": "MJVwAy79xCA6"
      },
      "outputs": [],
      "source": [
        "# Preparamos o VectorAssembler\n",
        "vetor = VectorAssembler(inputCols = ['danceability',\n",
        "                                     'energy',\n",
        "                                     'loudness',\n",
        "                                     'speechiness',\n",
        "                                     'acousticness',\n",
        "                                     'instrumentalness',\n",
        "                                     'liveness',\n",
        "                                     'valence',\n",
        "                                     'tempo'],\n",
        "                        outputCol = 'song_features')"
      ]
    },
    {
      "cell_type": "code",
      "execution_count": null,
      "metadata": {
        "id": "XN0IRsp2xCA7"
      },
      "outputs": [],
      "source": [
        "# Descartamos valores inválidos\n",
        "assembled = vetor.setHandleInvalid(\"skip\").transform(df)"
      ]
    },
    {
      "cell_type": "code",
      "execution_count": null,
      "metadata": {
        "id": "BYvHCxDDxCA8"
      },
      "outputs": [],
      "source": [
        "# Preparamos o padronizador\n",
        "std = StandardScaler(inputCol = 'song_features', outputCol = 'standardized')"
      ]
    },
    {
      "cell_type": "code",
      "execution_count": null,
      "metadata": {
        "id": "lhqGCF9TxCA8"
      },
      "outputs": [],
      "source": [
        "# Treinamos o padronizador\n",
        "scale = std.fit(assembled)"
      ]
    },
    {
      "cell_type": "code",
      "execution_count": null,
      "metadata": {
        "id": "_pxuBkBPxCA9"
      },
      "outputs": [],
      "source": [
        "# Dataframe com dados padronizados\n",
        "df = scale.transform(assembled)"
      ]
    },
    {
      "cell_type": "code",
      "execution_count": null,
      "metadata": {
        "id": "15mN49IQy01n",
        "outputId": "5599d309-dad3-4f4e-ff05-c20a51313ad2"
      },
      "outputs": [
        {
          "name": "stdout",
          "output_type": "stream",
          "text": [
            "+--------------------+\n",
            "|        standardized|\n",
            "+--------------------+\n",
            "|[2.85204469270774...|\n",
            "|[3.96730453181138...|\n",
            "|[5.21035456081231...|\n",
            "|[4.24031084659196...|\n",
            "|[3.50842157718019...|\n",
            "+--------------------+\n",
            "only showing top 5 rows\n",
            "\n"
          ]
        }
      ],
      "source": [
        "df.select(\"standardized\").show(5)"
      ]
    },
    {
      "cell_type": "markdown",
      "metadata": {
        "id": "2a26OKFzxCA_"
      },
      "source": [
        "## Machine learning com aprendizado não supervisionado"
      ]
    },
    {
      "cell_type": "code",
      "execution_count": null,
      "metadata": {
        "id": "Z9VPy8v_xCA_",
        "outputId": "1a53d9c4-b34b-426b-c5c1-2c0876ea16c5"
      },
      "outputs": [
        {
          "name": "stdout",
          "output_type": "stream",
          "text": [
            "Silhouette Score for k = 2 is 0.3987711287521007\n",
            "Silhouette Score for k = 3 is 0.29466179589139024\n",
            "Silhouette Score for k = 4 is 0.3578877031006484\n",
            "Silhouette Score for k = 5 is 0.28471238797904536\n",
            "Silhouette Score for k = 6 is 0.29143583216779256\n",
            "Silhouette Score for k = 7 is 0.2649470319212026\n",
            "Silhouette Score for k = 8 is 0.2724590898304979\n",
            "Silhouette Score for k = 9 is 0.24745862839211527\n"
          ]
        }
      ],
      "source": [
        "# Silhouette Score para diversos números de clusters\n",
        "silhouette_score=[]\n",
        "\n",
        "evaluator = ClusteringEvaluator(predictionCol='prediction',\n",
        "                                featuresCol='standardized', \\\n",
        "                                metricName='silhouette',\n",
        "                                distanceMeasure='squaredEuclidean')\n",
        "\n",
        "for i in range(2,10):\n",
        "    kmeans=KMeans(featuresCol='standardized', k=i)\n",
        "    model=kmeans.fit(df)\n",
        "    predictions=model.transform(df)\n",
        "    score=evaluator.evaluate(predictions)\n",
        "    silhouette_score.append(score)\n",
        "    print('Silhouette Score for k =',i,'is',score)"
      ]
    },
    {
      "cell_type": "code",
      "execution_count": null,
      "metadata": {
        "id": "FvHU6-ZfxCBA",
        "outputId": "71d9952c-33ea-45e4-bb79-24b3d892aec7"
      },
      "outputs": [
        {
          "data": {
            "image/png": "[encoded data removed]",
            "text/plain": [
              "<Figure size 600x300 with 1 Axes>"
            ]
          },
          "metadata": {},
          "output_type": "display_data"
        }
      ],
      "source": [
        "# Plotamos os silhouettes scores gerados\n",
        "plt.figure(figsize=(6,3))\n",
        "plt.plot(range(2,10),silhouette_score)\n",
        "plt.xlabel('k')\n",
        "plt.ylabel('silhouette score')\n",
        "plt.title('Silhouette Score')\n",
        "plt.show()"
      ]
    },
    {
      "cell_type": "code",
      "execution_count": null,
      "metadata": {
        "id": "tYaIpUAGy01p"
      },
      "outputs": [],
      "source": [
        "# Cria o objeto do modelo\n",
        "objeto_KMeans = KMeans(featuresCol = 'standardized', k = 4)"
      ]
    },
    {
      "cell_type": "code",
      "execution_count": null,
      "metadata": {
        "id": "DjJvTP77y01p"
      },
      "outputs": [],
      "source": [
        "# Treina o modelo\n",
        "modelo_KMeans = objeto_KMeans.fit(df)"
      ]
    },
    {
      "cell_type": "code",
      "execution_count": null,
      "metadata": {
        "id": "ARvPl816y01p",
        "outputId": "bb96ec63-c8eb-4fa7-c1f0-94f46d3ad967"
      },
      "outputs": [
        {
          "name": "stdout",
          "output_type": "stream",
          "text": [
            "+--------------------+----------+\n",
            "|        standardized|prediction|\n",
            "+--------------------+----------+\n",
            "|[2.85204469270774...|         1|\n",
            "|[3.96730453181138...|         3|\n",
            "|[5.21035456081231...|         3|\n",
            "|[4.24031084659196...|         3|\n",
            "|[3.50842157718019...|         3|\n",
            "+--------------------+----------+\n",
            "only showing top 5 rows\n",
            "\n"
          ]
        }
      ],
      "source": [
        "# Previsões do modelo\n",
        "df_output = modelo_KMeans.transform(df)\n",
        "df_output.select(\"standardized\", \"prediction\").show(5)"
      ]
    },
    {
      "cell_type": "code",
      "execution_count": null,
      "metadata": {
        "id": "sNw2GRw0y01q"
      },
      "outputs": [],
      "source": [
        "# Função para extrair os atributos das previsões\n",
        "def unstripData(instr) :\n",
        "    return (instr[\"prediction\"],\n",
        "            instr[\"standardized\"][0],\n",
        "            instr[\"standardized\"][1],\n",
        "            instr[\"standardized\"][2],\n",
        "            instr[\"standardized\"][3],\n",
        "            instr[\"standardized\"][4],\n",
        "            instr[\"standardized\"][5],\n",
        "            instr[\"standardized\"][6],\n",
        "            instr[\"standardized\"][7],\n",
        "            instr[\"standardized\"][8])"
      ]
    },
    {
      "cell_type": "code",
      "execution_count": null,
      "metadata": {
        "id": "Z7bJjMGuy01q"
      },
      "outputs": [],
      "source": [
        "# Aplica a função nas previsões\n",
        "df_features = df_output.rdd.map(unstripData)"
      ]
    },
    {
      "cell_type": "code",
      "execution_count": null,
      "metadata": {
        "id": "k5blKrzmy01q",
        "outputId": "e4adfaf5-9952-49fd-87c7-09e60581ef3b"
      },
      "outputs": [
        {
          "name": "stderr",
          "output_type": "stream",
          "text": [
            "                                                                                \r"
          ]
        }
      ],
      "source": [
        "# Coleta os dados\n",
        "df_collect = df_features.collect()"
      ]
    },
    {
      "cell_type": "code",
      "execution_count": null,
      "metadata": {
        "id": "TkEvsWaNy01r",
        "outputId": "7d1571f8-06df-41a4-bc61-52fa0fdfafce"
      },
      "outputs": [
        {
          "data": {
            "text/html": [
              "<div>\n",
              "<style scoped>\n",
              "    .dataframe tbody tr th:only-of-type {\n",
              "        vertical-align: middle;\n",
              "    }\n",
              "\n",
              "    .dataframe tbody tr th {\n",
              "        vertical-align: top;\n",
              "    }\n",
              "\n",
              "    .dataframe thead th {\n",
              "        text-align: right;\n",
              "    }\n",
              "</style>\n",
              "<table border=\"1\" class=\"dataframe\">\n",
              "  <thead>\n",
              "    <tr style=\"text-align: right;\">\n",
              "      <th></th>\n",
              "      <th>0</th>\n",
              "      <th>1</th>\n",
              "      <th>2</th>\n",
              "      <th>3</th>\n",
              "      <th>4</th>\n",
              "      <th>5</th>\n",
              "      <th>6</th>\n",
              "      <th>7</th>\n",
              "      <th>8</th>\n",
              "      <th>9</th>\n",
              "    </tr>\n",
              "  </thead>\n",
              "  <tbody>\n",
              "    <tr>\n",
              "      <th>0</th>\n",
              "      <td>1</td>\n",
              "      <td>2.852045</td>\n",
              "      <td>3.302119</td>\n",
              "      <td>-2.210281</td>\n",
              "      <td>0.391485</td>\n",
              "      <td>0.016716</td>\n",
              "      <td>0.000061</td>\n",
              "      <td>0.393112</td>\n",
              "      <td>0.484183</td>\n",
              "      <td>5.377675</td>\n",
              "    </tr>\n",
              "    <tr>\n",
              "      <th>1</th>\n",
              "      <td>3</td>\n",
              "      <td>3.967305</td>\n",
              "      <td>2.813103</td>\n",
              "      <td>-1.922945</td>\n",
              "      <td>0.272487</td>\n",
              "      <td>1.658067</td>\n",
              "      <td>0.000869</td>\n",
              "      <td>0.662767</td>\n",
              "      <td>2.913593</td>\n",
              "      <td>4.378398</td>\n",
              "    </tr>\n",
              "    <tr>\n",
              "      <th>2</th>\n",
              "      <td>3</td>\n",
              "      <td>5.210355</td>\n",
              "      <td>3.332368</td>\n",
              "      <td>-1.908999</td>\n",
              "      <td>1.500405</td>\n",
              "      <td>0.977921</td>\n",
              "      <td>0.000033</td>\n",
              "      <td>0.841455</td>\n",
              "      <td>1.295402</td>\n",
              "      <td>3.266751</td>\n",
              "    </tr>\n",
              "    <tr>\n",
              "      <th>3</th>\n",
              "      <td>3</td>\n",
              "      <td>4.240311</td>\n",
              "      <td>3.130711</td>\n",
              "      <td>-2.382631</td>\n",
              "      <td>0.691566</td>\n",
              "      <td>0.338381</td>\n",
              "      <td>0.000005</td>\n",
              "      <td>0.218648</td>\n",
              "      <td>3.818251</td>\n",
              "      <td>3.407905</td>\n",
              "    </tr>\n",
              "    <tr>\n",
              "      <th>4</th>\n",
              "      <td>3</td>\n",
              "      <td>3.508422</td>\n",
              "      <td>3.105504</td>\n",
              "      <td>-2.946516</td>\n",
              "      <td>1.767719</td>\n",
              "      <td>1.502412</td>\n",
              "      <td>0.000000</td>\n",
              "      <td>0.386614</td>\n",
              "      <td>1.567224</td>\n",
              "      <td>2.953111</td>\n",
              "    </tr>\n",
              "  </tbody>\n",
              "</table>\n",
              "</div>"
            ],
            "text/plain": [
              "   0         1         2         3         4         5         6         7  \\\n",
              "0  1  2.852045  3.302119 -2.210281  0.391485  0.016716  0.000061  0.393112   \n",
              "1  3  3.967305  2.813103 -1.922945  0.272487  1.658067  0.000869  0.662767   \n",
              "2  3  5.210355  3.332368 -1.908999  1.500405  0.977921  0.000033  0.841455   \n",
              "3  3  4.240311  3.130711 -2.382631  0.691566  0.338381  0.000005  0.218648   \n",
              "4  3  3.508422  3.105504 -2.946516  1.767719  1.502412  0.000000  0.386614   \n",
              "\n",
              "          8         9  \n",
              "0  0.484183  5.377675  \n",
              "1  2.913593  4.378398  \n",
              "2  1.295402  3.266751  \n",
              "3  3.818251  3.407905  \n",
              "4  1.567224  2.953111  "
            ]
          },
          "execution_count": 551,
          "metadata": {},
          "output_type": "execute_result"
        }
      ],
      "source": [
        "# Converte em dataFrame do Pandas\n",
        "df_collect = pd.DataFrame(df_collect)\n",
        "df_collect.head()"
      ]
    },
    {
      "cell_type": "code",
      "execution_count": null,
      "metadata": {
        "id": "lR3PQVvzy01r",
        "outputId": "495c923e-2ca3-4d60-d8ba-60f9238b0630"
      },
      "outputs": [
        {
          "data": {
            "image/png": "[encoded data removed]",
            "text/plain": [
              "<Figure size 600x400 with 1 Axes>"
            ]
          },
          "metadata": {},
          "output_type": "display_data"
        }
      ],
      "source": [
        "# Gráfico com o resultados dos clusters criados\n",
        "plt.figure(figsize=(6,4))\n",
        "plt.cla()\n",
        "plt.scatter(df_collect[3], df_collect[4], c = df_collect[0])\n",
        "plt.title('Recomendation Clusters')\n",
        "plt.show();"
      ]
    },
    {
      "cell_type": "markdown",
      "metadata": {
        "id": "TFCp6ZS-xCBB"
      },
      "source": [
        "## Sistema de recomendação"
      ]
    },
    {
      "cell_type": "code",
      "execution_count": null,
      "metadata": {
        "id": "yShL2yaexCBC"
      },
      "outputs": [],
      "source": [
        "# Classe\n",
        "class RecoSystem():\n",
        "\n",
        "    # Método construtor\n",
        "    def __init__(self, data):\n",
        "        self.data_ = data\n",
        "\n",
        "    # Método de recomendação\n",
        "    def Recomm(self, nome_musica, amount = 1):\n",
        "\n",
        "        # Lista para as distâncias\n",
        "        distancias = []\n",
        "\n",
        "        # Seleciona a música\n",
        "        song = self.data_[(self.data_.name.str.lower() == nome_musica.lower())].head(1).values[0]\n",
        "        res_dt = self.data_[self.data_.name.str.lower() != nome_musica.lower()]\n",
        "\n",
        "        # Loop para o cálculo das distâncias\n",
        "        for i_song in tqdm(res_dt.values):\n",
        "\n",
        "            # Inicializa a distância\n",
        "            distancia = 0\n",
        "\n",
        "            # Loop para calcular a distância\n",
        "            for col in np.arange(len(res_dt.columns)):\n",
        "                if not col in [0,1,2,14]:\n",
        "                    distancia = distancia + np.absolute(float(song[col]) - float(i_song[col]))\n",
        "\n",
        "            # Adiciona na lista de distâncias\n",
        "            distancias.append(distancia)\n",
        "\n",
        "        res_dt['distance'] = distancias\n",
        "        res_dt = res_dt.sort_values('distance')\n",
        "\n",
        "        columns = ['id','name',\n",
        "                   'artists',\n",
        "                   'acousticness',\n",
        "                   'liveness',\n",
        "                   'instrumentalness',\n",
        "                   'energy',\n",
        "                   'danceability',\n",
        "                   'valence']\n",
        "\n",
        "        return res_dt[columns][:amount]"
      ]
    },
    {
      "cell_type": "code",
      "execution_count": null,
      "metadata": {
        "id": "p4cQPHDpxCBC"
      },
      "outputs": [],
      "source": [
        "# Nomes das colunas\n",
        "datalabel = df_output.select('id',\n",
        "                             'name',\n",
        "                             'artists',\n",
        "                             'danceability',\n",
        "                             'energy',\n",
        "                             'key',\n",
        "                             'loudness',\n",
        "                             'speechiness',\n",
        "                             'acousticness',\n",
        "                             'instrumentalness',\n",
        "                             'liveness',\n",
        "                             'valence',\n",
        "                             'tempo',\n",
        "                             'prediction')"
      ]
    },
    {
      "cell_type": "code",
      "execution_count": null,
      "metadata": {
        "id": "ifL3Rja2xCBD"
      },
      "outputs": [],
      "source": [
        "# Dataset final\n",
        "df_final = datalabel.toPandas()\n",
        "df_final.drop(df_final[df_final['artists'] == '0'].index, inplace = True)\n",
        "df_final.drop_duplicates(inplace = True)\n",
        "df_final.drop(df_final[df_final['danceability'] == 0.0000].index, inplace = True)\n",
        "df_final.drop(df_final[df_final['liveness'] == 0.000].index, inplace = True)\n",
        "df_final.drop(df_final[df_final['instrumentalness'] == 0.000000].index, inplace = True)\n",
        "df_final.drop(df_final[df_final['energy'] == 0.0000].index, inplace = True)\n",
        "df_final.drop(df_final[df_final['danceability'] == 0.000].index, inplace = True)\n",
        "df_final.drop(df_final[df_final['valence'] == 0.000].index, inplace = True)"
      ]
    },
    {
      "cell_type": "code",
      "execution_count": null,
      "metadata": {
        "id": "Gs5-QDRxxCBD",
        "outputId": "5707b550-dd40-45f8-b584-2dd540c6a241"
      },
      "outputs": [
        {
          "data": {
            "text/plain": [
              "(718, 14)"
            ]
          },
          "execution_count": 118,
          "metadata": {},
          "output_type": "execute_result"
        }
      ],
      "source": [
        "# Verificamos o shape dos dados\n",
        "df_final.shape"
      ]
    },
    {
      "cell_type": "code",
      "execution_count": null,
      "metadata": {
        "id": "6cAq_k1axCBE",
        "outputId": "361c8c73-b0b8-4b3e-d444-0478f801d8ad"
      },
      "outputs": [
        {
          "data": {
            "text/html": [
              "<div>\n",
              "<style scoped>\n",
              "    .dataframe tbody tr th:only-of-type {\n",
              "        vertical-align: middle;\n",
              "    }\n",
              "\n",
              "    .dataframe tbody tr th {\n",
              "        vertical-align: top;\n",
              "    }\n",
              "\n",
              "    .dataframe thead th {\n",
              "        text-align: right;\n",
              "    }\n",
              "</style>\n",
              "<table border=\"1\" class=\"dataframe\">\n",
              "  <thead>\n",
              "    <tr style=\"text-align: right;\">\n",
              "      <th></th>\n",
              "      <th>id</th>\n",
              "      <th>name</th>\n",
              "      <th>artists</th>\n",
              "      <th>danceability</th>\n",
              "      <th>energy</th>\n",
              "      <th>key</th>\n",
              "      <th>loudness</th>\n",
              "      <th>speechiness</th>\n",
              "      <th>acousticness</th>\n",
              "      <th>instrumentalness</th>\n",
              "      <th>liveness</th>\n",
              "      <th>valence</th>\n",
              "      <th>tempo</th>\n",
              "      <th>prediction</th>\n",
              "    </tr>\n",
              "  </thead>\n",
              "  <tbody>\n",
              "    <tr>\n",
              "      <th>799</th>\n",
              "      <td>6mD36P20wAI9xWLcbbDeav</td>\n",
              "      <td>Hot Box</td>\n",
              "      <td>AziztheShakeDecapTeekoJerremyLaesser</td>\n",
              "      <td>0.829</td>\n",
              "      <td>0.635</td>\n",
              "      <td>4</td>\n",
              "      <td>-7.674</td>\n",
              "      <td>0.4210</td>\n",
              "      <td>0.06830</td>\n",
              "      <td>0.000373</td>\n",
              "      <td>0.2560</td>\n",
              "      <td>0.384</td>\n",
              "      <td>113.942</td>\n",
              "      <td>2</td>\n",
              "    </tr>\n",
              "    <tr>\n",
              "      <th>605</th>\n",
              "      <td>6wIuxxBh3DEhk8h9YSu18Q</td>\n",
              "      <td>pieces</td>\n",
              "      <td>wuudlum</td>\n",
              "      <td>0.706</td>\n",
              "      <td>0.304</td>\n",
              "      <td>7</td>\n",
              "      <td>-11.596</td>\n",
              "      <td>0.0425</td>\n",
              "      <td>0.57000</td>\n",
              "      <td>0.218000</td>\n",
              "      <td>0.1890</td>\n",
              "      <td>0.153</td>\n",
              "      <td>88.006</td>\n",
              "      <td>0</td>\n",
              "    </tr>\n",
              "    <tr>\n",
              "      <th>241</th>\n",
              "      <td>4FCZwI6zUM4FhYKwFhO4Ud</td>\n",
              "      <td>Time</td>\n",
              "      <td>Goss</td>\n",
              "      <td>0.474</td>\n",
              "      <td>0.384</td>\n",
              "      <td>0</td>\n",
              "      <td>-7.055</td>\n",
              "      <td>0.1220</td>\n",
              "      <td>0.42700</td>\n",
              "      <td>0.000040</td>\n",
              "      <td>0.0885</td>\n",
              "      <td>0.248</td>\n",
              "      <td>115.080</td>\n",
              "      <td>1</td>\n",
              "    </tr>\n",
              "    <tr>\n",
              "      <th>621</th>\n",
              "      <td>6qbcfx3gBsg4LTxae0Pprt</td>\n",
              "      <td>Bumps</td>\n",
              "      <td>Codes</td>\n",
              "      <td>0.831</td>\n",
              "      <td>0.838</td>\n",
              "      <td>11</td>\n",
              "      <td>-6.546</td>\n",
              "      <td>0.1320</td>\n",
              "      <td>0.00273</td>\n",
              "      <td>0.343000</td>\n",
              "      <td>0.0485</td>\n",
              "      <td>0.428</td>\n",
              "      <td>124.999</td>\n",
              "      <td>3</td>\n",
              "    </tr>\n",
              "    <tr>\n",
              "      <th>821</th>\n",
              "      <td>1jHOCcWTLhWtohyPcqFP2N</td>\n",
              "      <td>Tracks</td>\n",
              "      <td>WillFraker</td>\n",
              "      <td>0.413</td>\n",
              "      <td>0.316</td>\n",
              "      <td>5</td>\n",
              "      <td>-9.660</td>\n",
              "      <td>0.0641</td>\n",
              "      <td>0.94100</td>\n",
              "      <td>0.000324</td>\n",
              "      <td>0.3270</td>\n",
              "      <td>0.132</td>\n",
              "      <td>135.491</td>\n",
              "      <td>0</td>\n",
              "    </tr>\n",
              "  </tbody>\n",
              "</table>\n",
              "</div>"
            ],
            "text/plain": [
              "                         id     name                               artists  \\\n",
              "799  6mD36P20wAI9xWLcbbDeav  Hot Box  AziztheShakeDecapTeekoJerremyLaesser   \n",
              "605  6wIuxxBh3DEhk8h9YSu18Q   pieces                               wuudlum   \n",
              "241  4FCZwI6zUM4FhYKwFhO4Ud     Time                                  Goss   \n",
              "621  6qbcfx3gBsg4LTxae0Pprt    Bumps                                 Codes   \n",
              "821  1jHOCcWTLhWtohyPcqFP2N   Tracks                            WillFraker   \n",
              "\n",
              "     danceability  energy key  loudness  speechiness  acousticness  \\\n",
              "799         0.829   0.635   4    -7.674       0.4210       0.06830   \n",
              "605         0.706   0.304   7   -11.596       0.0425       0.57000   \n",
              "241         0.474   0.384   0    -7.055       0.1220       0.42700   \n",
              "621         0.831   0.838  11    -6.546       0.1320       0.00273   \n",
              "821         0.413   0.316   5    -9.660       0.0641       0.94100   \n",
              "\n",
              "     instrumentalness  liveness  valence    tempo  prediction  \n",
              "799          0.000373    0.2560    0.384  113.942           2  \n",
              "605          0.218000    0.1890    0.153   88.006           0  \n",
              "241          0.000040    0.0885    0.248  115.080           1  \n",
              "621          0.343000    0.0485    0.428  124.999           3  \n",
              "821          0.000324    0.3270    0.132  135.491           0  "
            ]
          },
          "execution_count": 119,
          "metadata": {},
          "output_type": "execute_result"
        }
      ],
      "source": [
        "# Visualizamos os dados\n",
        "df_final.sample(5)"
      ]
    },
    {
      "cell_type": "code",
      "execution_count": null,
      "metadata": {
        "id": "3l9AgRuTxCBF"
      },
      "outputs": [],
      "source": [
        "# Cria o objeto\n",
        "reco_obj = RecoSystem(df_final)"
      ]
    },
    {
      "cell_type": "code",
      "execution_count": null,
      "metadata": {
        "id": "v8lhmYgGxCBF"
      },
      "outputs": [],
      "source": [
        "# Seleciona randomicamente uma música\n",
        "musica = df_musica_randomica['name'].tolist()[0]"
      ]
    },
    {
      "cell_type": "code",
      "execution_count": null,
      "metadata": {
        "id": "KMZraDTlxCBF",
        "outputId": "373432c5-8e5c-4536-ac23-34481b2b9ea7"
      },
      "outputs": [
        {
          "name": "stdout",
          "output_type": "stream",
          "text": [
            "Just Breathe - acoustic at home\n"
          ]
        }
      ],
      "source": [
        "# Visualizamos a música escolhida\n",
        "print(musica)"
      ]
    },
    {
      "cell_type": "code",
      "execution_count": null,
      "metadata": {
        "id": "WTGO385cxCBG",
        "outputId": "b61605d0-83fb-4782-b58a-1e4ec4a7cea0"
      },
      "outputs": [
        {
          "name": "stderr",
          "output_type": "stream",
          "text": [
            "100%|███████████████████████████████████████████████████████████████████████████████| 717/717 [00:00<00:00, 8844.55it/s]\n"
          ]
        }
      ],
      "source": [
        "# Executa a recomendação\n",
        "recomendacao = reco_obj.Recomm(musica)"
      ]
    },
    {
      "cell_type": "code",
      "execution_count": null,
      "metadata": {
        "id": "wiLl16jIxCBG"
      },
      "outputs": [],
      "source": [
        "# Extrai a música randômica da lista de favoritos do Spotify\n",
        "y = df_musica_randomica[['id','name',\n",
        "                         'artists',\n",
        "                         'acousticness',\n",
        "                         'liveness',\n",
        "                         'instrumentalness',\n",
        "                         'energy',\n",
        "                         'danceability',\n",
        "                         'valence']]"
      ]
    },
    {
      "cell_type": "code",
      "execution_count": null,
      "metadata": {
        "id": "0CSvsb53xCBH"
      },
      "outputs": [],
      "source": [
        "# Concatena a recomendação com a música randômica da lista de favoritos do Spotify\n",
        "recomendacao = pd.concat([recomendacao, y])"
      ]
    },
    {
      "cell_type": "code",
      "execution_count": null,
      "metadata": {
        "id": "ejM6H1thxCBI"
      },
      "outputs": [],
      "source": [
        "# Salva a recomendação em disco\n",
        "recomendacao.to_csv('recomendacoes/recomendacao.csv')"
      ]
    },
    {
      "cell_type": "code",
      "execution_count": null,
      "metadata": {
        "id": "drCbu8ukxCBI"
      },
      "outputs": [],
      "source": [
        "# Carrega o arquivo do disco\n",
        "df_reco = (spark.read.format(\"csv\").options(header = \"true\").load(\"recomendacoes/recomendacao.csv\"))"
      ]
    },
    {
      "cell_type": "code",
      "execution_count": null,
      "metadata": {
        "id": "-6TuIT_OxCBI",
        "outputId": "707a9f4b-fe7b-4bbe-abd8-c6c2b588c93e"
      },
      "outputs": [
        {
          "name": "stdout",
          "output_type": "stream",
          "text": [
            "+---+--------------------+--------------------+------------+------------+--------+----------------+------+------------+-------+\n",
            "|_c0|                  id|                name|     artists|acousticness|liveness|instrumentalness|energy|danceability|valence|\n",
            "+---+--------------------+--------------------+------------+------------+--------+----------------+------+------------+-------+\n",
            "|411|3z52hU34ucxbKZbUt...|The World At Our ...|BurkiniBeach|       0.319|   0.111|           0.457|  0.44|        0.38|  0.541|\n",
            "| 45|7ymjj8XtifcKzdebJ...|Just Breathe - ac...|Eddie Vedder|       0.732|   0.111|             0.0|  0.33|       0.431|  0.389|\n",
            "+---+--------------------+--------------------+------------+------------+--------+----------------+------+------------+-------+\n",
            "\n"
          ]
        }
      ],
      "source": [
        "# Recomendação de música\n",
        "df_reco.show(5)"
      ]
    }
  ],
  "metadata": {
    "kernelspec": {
      "display_name": "Python 3 (ipykernel)",
      "language": "python",
      "name": "python3"
    },
    "language_info": {
      "codemirror_mode": {
        "name": "ipython",
        "version": 3
      },
      "file_extension": ".py",
      "mimetype": "text/x-python",
      "name": "python",
      "nbconvert_exporter": "python",
      "pygments_lexer": "ipython3",
      "version": "3.9.13"
    },
    "colab": {
      "provenance": [],
      "toc_visible": true
    }
  },
  "nbformat": 4,
  "nbformat_minor": 0
}